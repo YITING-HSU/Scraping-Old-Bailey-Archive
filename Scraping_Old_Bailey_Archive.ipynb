{
 "cells": [
  {
   "cell_type": "markdown",
   "metadata": {},
   "source": [
    "## Exploring the relationship of gender, crime and punishment in the late 18th Century England (1750-1799)\n",
    "### Using the Proceedings of the Old Bailey Digital Archive \n",
    "#### This notebook was built in Python 3.7.7 \n",
    "---------------------------------------------------------------------------------\n",
    "### Project background and research questions\n",
    "For Britain, a lot of things happened in the 18th century that changed the course of human history, one of these was the industrial revolution. The project focusses on crime during industrial revolution. There is no universal academic consensus on exactly when it occurred and its definition but for Britain, it started at around 1760 till the mid 19th century (Deane, 1979). The critical characteristics in the early stages of industrial revolutions were the changes in productions of goods, from human to machines and an increase use of steam power (e.g. Hudson, 2014). These features also caused repercussions in societies, such as child-labour, poverty and gender inequality. There has been countless research on the industrial revolution, its definition and its impacts but they are beyond the scope of this project. In this project, we will focus on gender equality in the late 18th century, when the industrial revolution was still in its infancy.\n",
    "There are few angles that can be used to investigate gender (in)equality such as law and justice system, labourers' treatments and the participation in the public decisions. Utilizing the criminal trial records from the Proceedings of the Old Bailey Digital Archive (https://www.oldbaileyonline.org//), this project aims to tackle the gender question from a law/justice perspective. The questions that this project will focus on are:\n",
    "##### -In the dawn of the industrial revolution (late 18th century), can we see a difference on how male and female defendants were treated in the court in terms of verdict and sentence? Were the whole-male judicial system favoured male defendant over female (Kermode and Walker, 2004)? Did it change through the time period being investigated?\n",
    "##### -Is there any pattern in the range of crime committed by male and female? Can this shed lights on the gender roles in the 18th century England?\n",
    "\n",
    "\n",
    "#### The background of the Proceedings of the Old Bailey\n",
    "The Old Bailey, which is also known as London Central Criminal Court, is located near northwest of St. Paul’s. It has remained as a courtroom since the 16th century till now. The Proceedings are compiled of accounts of trials taken place in the Old Bailey. The earliest proceedings identified can be traced back to 1674. It is interesting that the early form of proceeding publication were not published officially. The publications were driven by commercial markets (Old Bailey, n.d.;Shoemaker,2008). From the 16th century, the life of criminals started to be published as entertaining tabloids/chapbooks. This inexpensive reading/leisure hit a wide audience, followed by a bloom of criminal literatures (Devereaux, 1996). Hence, this market demanded the formats of the proceedings to keep changing to attract more readers in order to gain the most commercial profit. This trend continued till the mid 18th century, when the City started to intervene. The City suggested that they wanted the proceedings to be published in a more truthful and fair narrative instead of simply being sensational and judgemental(Old Bailey, n.d.). From 1787, the Proceedings had disappeared from the commercial market and were fully under the control of the City till 1913. \n",
    "\n",
    "The Old Bailey Proceedings from 1674 to 1913 now are fully available online, searchable and digitised by the project \"The Old Bailey Proceedings Online\". All the materials are free of charge for non-commercial use only. The xml files and data using the Old Bailey API are made available to re-use under a Creative Commons Attribution-NonCommercial4.0 International (CC-BY-NC 4.0) license. (Details: https://www.oldbaileyonline.org/static/Legal-info.jsp)\n",
    "\n",
    "The Old Bailey Proceedings digital archive is a treasure trove for researchers. The database contains an enormous information such as the political, social-economic contexts, gender roles, criminal justice systems in England and the uses of English language in different eras. \n",
    "### Project design overview\n",
    "\n",
    "This project will analyse all the trial records int the database between 1750 and 1799 (the early stage of industrial revolution). The project can be divided into three parts.\n",
    "The first part is data collection: 1. obtain the trial records (in the form of XML) from the database in this time period and clean the dataset Ready for the data analysis. 2. scraping the information needed from XML for further analysis, such as each case's date, defendant gender, charged crimes, verdict and punishment. Using summary statistics and visualization, the second part is analysing the relationships between variables with the focus on gender. The third part is text analysis with the focus on the length of words in the trial records, TF-IDF (term frequency-inverse document frequency) and sentiment analysis. All the details will be addressed in each part and in the discussion.\n"
   ]
  },
  {
   "cell_type": "markdown",
   "metadata": {},
   "source": [
    "### Part 1: Data Sourcing and Cleaning\n",
    "\n",
    "The query UI of the Old Bailey provides access and offers the data in human readable formats from the digital archive (https://www.oldbaileyonline.org//forms/formMain.jsp). However, the information retrieved is restricted and not easy to scrape. Hence, in this project, we decide to explore the API of the database. \n",
    "The Old Bailey database API offers two approaches to acquire trial records: Query URL and Zip URL. For Zip URL, the API allows us to download zip files of 10 trials each. For query URL, the API allows us to return a JSON object describing the fields which were queried and a list of case ids, which is no more than 1000 ids per page. The JSON object also contains a frequency table (on the field we queried). The ids acquired are then used to access each individual trial record through URL.\n",
    "Both methods have some caveats, in this project it was decided to use the query URL approach. The reason is simple. In the pilot stage of this project, we started from querying and scraping 1 xml/trial record, and then expanded to 100 and 1000 xmls. It is easier to use query URL method since everything can be stored in the memory. We can also skip the troubles of downloading, opening and unzipping the files. However, with scaling up to more than 1000, there are not much difference between two methods in terms of time. The one benefit still lies in avoiding dealing with zip file."
   ]
  },
  {
   "cell_type": "markdown",
   "metadata": {},
   "source": [
    "##### README"
   ]
  },
  {
   "cell_type": "code",
   "execution_count": 1,
   "metadata": {},
   "outputs": [],
   "source": [
    "#Due to the large size of the dataset used, this variable toggles between obtaining a small test set of data and the full 28,120 records\n",
    "#Please be aware that the full dataset takes about 4 hours to download and 300MB's of space of storage\n",
    "#The small dataset takes about <1 minutes to download. \n",
    "#When set to False only 93 cases are retrieved from the API but the full 28,120 cases are used in the rest of the notebook for analysis\n",
    "#By default it is set to use the small dataset\n",
    "use_full_dataset = False"
   ]
  },
  {
   "cell_type": "code",
   "execution_count": 2,
   "metadata": {},
   "outputs": [
    {
     "data": {
      "text/plain": [
       "{'total': 93,\n",
       " 'hits': ['t17530607-1',\n",
       "  't17530607-2',\n",
       "  't17530607-3',\n",
       "  't17530607-4',\n",
       "  't17530607-5',\n",
       "  't17530607-6',\n",
       "  't17530607-7',\n",
       "  't17530607-8',\n",
       "  't17530607-9',\n",
       "  't17530607-10',\n",
       "  't17530607-11',\n",
       "  't17530607-12',\n",
       "  't17530607-13',\n",
       "  't17530607-14',\n",
       "  't17530607-15',\n",
       "  't17530607-16',\n",
       "  't17530607-17',\n",
       "  't17530607-18',\n",
       "  't17530607-19',\n",
       "  't17530607-20',\n",
       "  't17530607-21',\n",
       "  't17530607-22',\n",
       "  't17530607-23',\n",
       "  't17530607-24',\n",
       "  't17530607-25',\n",
       "  't17530607-26',\n",
       "  't17530607-27',\n",
       "  't17530607-28',\n",
       "  't17530607-29',\n",
       "  't17530607-30',\n",
       "  't17530607-31',\n",
       "  't17530607-32',\n",
       "  't17530607-33',\n",
       "  't17530607-34',\n",
       "  't17530607-35',\n",
       "  't17530607-36',\n",
       "  't17530607-37',\n",
       "  't17530607-38',\n",
       "  't17530607-39',\n",
       "  't17530607-40',\n",
       "  't17530607-41',\n",
       "  't17530718-1',\n",
       "  't17530718-2',\n",
       "  't17530718-3',\n",
       "  't17530718-4',\n",
       "  't17530718-5',\n",
       "  't17530718-6',\n",
       "  't17530718-7',\n",
       "  't17530718-8',\n",
       "  't17530718-9',\n",
       "  't17530718-10',\n",
       "  't17530718-11',\n",
       "  't17530718-12',\n",
       "  't17530718-13',\n",
       "  't17530718-14',\n",
       "  't17530718-15',\n",
       "  't17530718-16',\n",
       "  't17530718-17',\n",
       "  't17530718-18',\n",
       "  't17530718-19',\n",
       "  't17530718-20',\n",
       "  't17530718-21',\n",
       "  't17530718-22',\n",
       "  't17530718-23',\n",
       "  't17530718-24',\n",
       "  't17530718-25',\n",
       "  't17530718-26',\n",
       "  't17530718-27',\n",
       "  't17530718-28',\n",
       "  't17530718-29',\n",
       "  't17530718-30',\n",
       "  't17530718-31',\n",
       "  't17530718-32',\n",
       "  't17530718-33',\n",
       "  't17530718-34',\n",
       "  't17530718-35',\n",
       "  't17530718-36',\n",
       "  't17530718-37',\n",
       "  't17530718-38',\n",
       "  't17530718-39',\n",
       "  't17530718-40',\n",
       "  't17530718-41',\n",
       "  't17530718-42',\n",
       "  't17530718-43',\n",
       "  't17530718-44',\n",
       "  't17530718-45',\n",
       "  't17530718-46',\n",
       "  't17530718-47',\n",
       "  't17530718-48',\n",
       "  't17530718-49',\n",
       "  't17530718-50',\n",
       "  't17530718-51',\n",
       "  't17530718-52']}"
      ]
     },
     "execution_count": 2,
     "metadata": {},
     "output_type": "execute_result"
    }
   ],
   "source": [
    "import urllib.request, json # to call the API and parse the API return\n",
    "\n",
    "#The base_url is generated from the  Old Bailey API query demonstrator page (link:https://www.oldbaileyonline.org/obapi/)\n",
    "#The base_url will be the part that can stay the same in the whole notebook. \n",
    "#It contains the informatinon on the query field (here, we can see the start date and end date).\n",
    "#The only thing we have to change is the start of the item (&start)\n",
    "if use_full_dataset == True:\n",
    "    base_url=\"https://www.oldbaileyonline.org/obapi/ob?term0=fromdate_17500117&term1=todate_17991204&breakdown=offcat&&count=1000&inputFormat=OBapiSearchJson&start=\"\n",
    "else:\n",
    "    base_url='https://www.oldbaileyonline.org//obapi/ob?term0=fromdate_17530607&term1=todate_17530718&&count=100&inputFormat=OBapiSearchJson&start='\n",
    "\n",
    "#We are making the first request to the API to get how many cases available\n",
    "with urllib.request.urlopen(base_url) as url:\n",
    "#To convert the JSON String document into the Python dictionary.\n",
    "    response_json = json.loads(url.read().decode())\n",
    "#This json object contains total numbers of case trials available\n",
    "#The hits value contains a list of trial ids\n",
    "response_json"
   ]
  },
  {
   "cell_type": "code",
   "execution_count": 3,
   "metadata": {},
   "outputs": [
    {
     "data": {
      "text/plain": [
       "93"
      ]
     },
     "execution_count": 3,
     "metadata": {},
     "output_type": "execute_result"
    }
   ],
   "source": [
    "#set a variable for total numer of trials in this time period for further querying\n",
    "total_trials=response_json['total']\n",
    "total_trials"
   ]
  },
  {
   "cell_type": "code",
   "execution_count": 4,
   "metadata": {},
   "outputs": [],
   "source": [
    "#create an empty list to hold the id lists requested from API (through json)\n",
    "id_list=[]\n",
    "#We iterate 1000 cases in each API call for total of number cases (28120 cases for the full dataset). \n",
    "for x in range(0,total_trials,1000):\n",
    "    #We make a request to the API to retrieve the list of case_id.\n",
    "    with urllib.request.urlopen(base_url+ str(x)) as url:\n",
    "        data = json.loads(url.read().decode())\n",
    "        id_list += data['hits']"
   ]
  },
  {
   "cell_type": "code",
   "execution_count": 5,
   "metadata": {},
   "outputs": [
    {
     "data": {
      "text/plain": [
       "93"
      ]
     },
     "execution_count": 5,
     "metadata": {},
     "output_type": "execute_result"
    }
   ],
   "source": [
    "#check if the number of id list scraping from json is the same or not as the total we got\n",
    "len(id_list)"
   ]
  },
  {
   "cell_type": "markdown",
   "metadata": {},
   "source": [
    "***Notice***\n",
    "\n",
    "As we can see, the total case numbers are 28120. This means that the time taken to query the API for all 28,000 cases is quite high (at least 4 hours) and it was evaluated whether the number of cases returned could be reduced by: (1) only looking at one crime type. However, the crime types are unevenly distributed as it is shown by the breakdown values in the cell above. If we ignore the theft crime, it will be quicker to call the API. However, it is the majority of committed crime, then we will lose the best opportunities to compare the verdict and punishment for both man and woman under the same charge. (2) shorter period of time. There are many crimes in one year. If we narrow down the time period, we also lose perspective on how things had changed. To get the full dataset takes a while but gives us a good range of data to evaluate. When running this notebook you can skip the cell below and start from cell after title \"Data cleaning (I): missing value and datatype\" which will load the full 28,000 rows of data from a csv saved in “/data/df_crime_original.csv”."
   ]
  },
  {
   "cell_type": "code",
   "execution_count": 6,
   "metadata": {},
   "outputs": [
    {
     "name": "stdout",
     "output_type": "stream",
     "text": [
      "It is the 0th case\n",
      "2021-01-11 09:43:16.446976\n"
     ]
    }
   ],
   "source": [
    "import requests # to call the API\n",
    "import time # for pausing between each API call\n",
    "from datetime import datetime #mark the time when it finishes 1000 request\n",
    "\n",
    "#iterating through the whole id_list\n",
    "for x in range(0,len(id_list)):\n",
    "    #error handling: use try and except any possible errors during request\n",
    "    try:\n",
    "        #We use each unique URL to retrieve the page containing the case XML\n",
    "        response=requests.get('https://www.oldbaileyonline.org/obapi/text?div='+ id_list[x])\n",
    "        #save it into data folder with id list as its filename\n",
    "        #If the response status code is 200, it meant the request is successful\n",
    "        if response.status_code ==200:\n",
    "            #response.text should contain a complete XML document and we will save them locally\n",
    "            filename='data/'+id_list[x]+'.xml'\n",
    "            with open(filename, 'w') as f:\n",
    "                f.write(response.text)\n",
    "    except Exception as e:\n",
    "        print(repr(e)) #if the request encounters and error then this code will handle it, write the error to the output cell and continue processing the other URL's\n",
    "        print(\"Failed:\"+id_list[x]) #print out the case that failed to make the requests\n",
    "        print(response.status_code) #print out the status codde for the files that failed to make requests to identify\n",
    "                                    #the errors\n",
    "   \n",
    "    #after iterating through every 1000 sample, we will return the finish time stamp to tack the progress.\n",
    "    if x % 1000 == 0: \n",
    "        print (\"It is the {}th case\".format(x))\n",
    "        print (str(datetime.now()))\n",
    "    \n",
    "    #pausing between each request to avoid overwhelm the server\n",
    "    time.sleep(0.5)"
   ]
  },
  {
   "cell_type": "code",
   "execution_count": 7,
   "metadata": {},
   "outputs": [],
   "source": [
    "#create a function that can be used to parse through XML and scrape the information we need \n",
    "def extrat_crime_info(root):\n",
    "    \n",
    "    #set the original variable with none, incase there is missing value \n",
    "    #e.g. some records do not have a punishment subcategory\n",
    "    trial_id= None\n",
    "    trial_id= None\n",
    "    crime_date= None\n",
    "    offence_category= None\n",
    "    offence_subcategory= None\n",
    "    defendant_age = None\n",
    "    defendant_gender= None\n",
    "    verdict_category= None\n",
    "    punishment_category= None\n",
    "    punishment_subcategory= None\n",
    "    \n",
    "    #We iter through all the sub tree with tag of \"div1\"\n",
    "    for crime_case in root.iter('div1'):\n",
    "    #.get() accesses the element’s attributes\n",
    "    #if the attribue \"type\" is equal to \"trialAccount\"\n",
    "        if crime_case.get('type')==\"trialAccount\":\n",
    "            # then we access the attribute \"id\" and store its value as a varaible\n",
    "            trial_id=crime_case.get('id')\n",
    "            break # once get the trial_id, break the loop before it iter through next 'div1' (if there is one)\n",
    "       \n",
    "    \n",
    "    #Iterate through all the child elements to find each piece of required information\n",
    "    #We first iterate through the child elements with the tag of \"interp\"\n",
    "    #Under this element, we will retrieve the information on when the trial happened \n",
    "    #  ,the crimes that the defendants were charged with, verdict and punishment\n",
    "\n",
    "    for detail in root.iter('interp'):\n",
    "        #under interp element, access first attribute \"type\"\n",
    "        criteria=detail.get('type')\n",
    "        #This information is when the trial is taken palce\n",
    "        if criteria==\"date\":\n",
    "            crime_date=detail.get('value')\n",
    "        if criteria=='offenceCategory':\n",
    "            offence_category = detail.get('value')\n",
    "        if criteria=='offenceSubcategory':\n",
    "            offence_subcategory = detail.get('value')\n",
    "        if criteria==\"verdictCategory\":\n",
    "            verdict_category=detail.get('value')\n",
    "            if verdict_category =='notGuilty':\n",
    "                break # if the verdict category is notguilty, break the loop before it iter through next 'interp' \n",
    "                      # with notguilty category, there will be no punishmentcategory\n",
    "        \n",
    "        #if the verdict category is guilty, then we continue to collect punishment categories. \n",
    "        if criteria=='punishmentCategory':\n",
    "            punishment_category = detail.get('value')\n",
    "        if criteria=='punishmentSubcategory':\n",
    "            punishment_subcategory = detail.get('value')\n",
    "    \n",
    "    #Iterate through all persName elements to find the gender and age of each defendant\n",
    "    for people in root.iter('persName'):\n",
    "        if people.get('type')==\"defendantName\":\n",
    "            for defendant in people.iter('interp'):\n",
    "                #if the attribute \"type\" is gender\n",
    "                if defendant.get('type')=='gender':\n",
    "                    defendant_gender= defendant.get('value')\n",
    "                if defendant.get('type')=='age':\n",
    "                    defendant_age= defendant.get('value')\n",
    "    \n",
    "\n",
    "                    \n",
    "    return trial_id, crime_date, offence_category, offence_subcategory, defendant_gender, defendant_age, verdict_category, punishment_category, punishment_subcategory "
   ]
  },
  {
   "cell_type": "code",
   "execution_count": 8,
   "metadata": {},
   "outputs": [],
   "source": [
    "import os \n",
    "import pandas as pd\n",
    "import xml.etree.ElementTree as ET # formatting XML in a tree structure to represent hierarchial data\n",
    "\n",
    "#give a path of where the xmls retrieved earlier from the API are stored\n",
    "path = \"data/\"\n",
    "\n",
    "#empty list soon-to-be dataframe\n",
    "crime_data=[]\n",
    "\n",
    "#iterate through the files in the path\n",
    "for filename in os.listdir(path):\n",
    "    if not filename.endswith('.xml'): continue     # only get the xml file\n",
    "    #This joins the path for each file it finds so that python knows the full path / filename to trigger parser \n",
    "    fullname = os.path.join(path, filename)\n",
    "    #use try and except incase there are problems in the xml files\n",
    "    try:\n",
    "        tree = ET.parse(fullname) #import the data by reading through the file\n",
    "        root = tree.getroot() #get the root element\n",
    "        #use the function to parse through the xml and assign the varaibles\n",
    "        trial_id, crime_date, offence_category, offence_subcategory, defendant_gender, defendant_age, verdict_category, punishment_category, punishment_subcategory  = extrat_crime_info(root)\n",
    "        # append row to the list\n",
    "        crime_data.append([trial_id, crime_date, offence_category, offence_subcategory, defendant_gender, \n",
    "                           defendant_age, verdict_category, punishment_category, punishment_subcategory ])\n",
    "    except:\n",
    "        print (\"Failed \"+filename) #print out the filenames that are failed in parsing"
   ]
  },
  {
   "cell_type": "code",
   "execution_count": 9,
   "metadata": {},
   "outputs": [],
   "source": [
    "#build the dataframe from the list\n",
    "df_crime_xml = pd.DataFrame(crime_data, columns=['trial_id','crime_date','offence_category','offence_subcategory',\n",
    "                                             'defendant_gender','defendant_age','verdict_category', 'punishment_category', \n",
    "                                             'punishment_subcategory' ])\n",
    "df_crime_xml # print the dataset\n",
    "\n",
    "df_crime_xml.to_csv(r'data/df_crime_xml.csv')#save the csv"
   ]
  },
  {
   "cell_type": "code",
   "execution_count": 10,
   "metadata": {},
   "outputs": [
    {
     "data": {
      "text/html": [
       "<div>\n",
       "<style scoped>\n",
       "    .dataframe tbody tr th:only-of-type {\n",
       "        vertical-align: middle;\n",
       "    }\n",
       "\n",
       "    .dataframe tbody tr th {\n",
       "        vertical-align: top;\n",
       "    }\n",
       "\n",
       "    .dataframe thead th {\n",
       "        text-align: right;\n",
       "    }\n",
       "</style>\n",
       "<table border=\"1\" class=\"dataframe\">\n",
       "  <thead>\n",
       "    <tr style=\"text-align: right;\">\n",
       "      <th></th>\n",
       "      <th>trial_id</th>\n",
       "      <th>crime_date</th>\n",
       "      <th>offence_category</th>\n",
       "      <th>offence_subcategory</th>\n",
       "      <th>defendant_gender</th>\n",
       "      <th>defendant_age</th>\n",
       "      <th>verdict_category</th>\n",
       "      <th>punishment_category</th>\n",
       "      <th>punishment_subcategory</th>\n",
       "    </tr>\n",
       "  </thead>\n",
       "  <tbody>\n",
       "    <tr>\n",
       "      <th>0</th>\n",
       "      <td>t17530607-8</td>\n",
       "      <td>17530607</td>\n",
       "      <td>theft</td>\n",
       "      <td>grandLarceny</td>\n",
       "      <td>male</td>\n",
       "      <td>None</td>\n",
       "      <td>notGuilty</td>\n",
       "      <td>None</td>\n",
       "      <td>None</td>\n",
       "    </tr>\n",
       "    <tr>\n",
       "      <th>1</th>\n",
       "      <td>t17530607-33</td>\n",
       "      <td>17530607</td>\n",
       "      <td>theft</td>\n",
       "      <td>theftFromPlace</td>\n",
       "      <td>female</td>\n",
       "      <td>None</td>\n",
       "      <td>guilty</td>\n",
       "      <td>transport</td>\n",
       "      <td>None</td>\n",
       "    </tr>\n",
       "    <tr>\n",
       "      <th>2</th>\n",
       "      <td>t17530607-27</td>\n",
       "      <td>17530607</td>\n",
       "      <td>theft</td>\n",
       "      <td>grandLarceny</td>\n",
       "      <td>female</td>\n",
       "      <td>None</td>\n",
       "      <td>notGuilty</td>\n",
       "      <td>None</td>\n",
       "      <td>None</td>\n",
       "    </tr>\n",
       "    <tr>\n",
       "      <th>3</th>\n",
       "      <td>t17530607-26</td>\n",
       "      <td>17530607</td>\n",
       "      <td>theft</td>\n",
       "      <td>grandLarceny</td>\n",
       "      <td>female</td>\n",
       "      <td>None</td>\n",
       "      <td>notGuilty</td>\n",
       "      <td>None</td>\n",
       "      <td>None</td>\n",
       "    </tr>\n",
       "    <tr>\n",
       "      <th>4</th>\n",
       "      <td>t17530607-32</td>\n",
       "      <td>17530607</td>\n",
       "      <td>theft</td>\n",
       "      <td>animalTheft</td>\n",
       "      <td>male</td>\n",
       "      <td>None</td>\n",
       "      <td>notGuilty</td>\n",
       "      <td>None</td>\n",
       "      <td>None</td>\n",
       "    </tr>\n",
       "    <tr>\n",
       "      <th>...</th>\n",
       "      <td>...</td>\n",
       "      <td>...</td>\n",
       "      <td>...</td>\n",
       "      <td>...</td>\n",
       "      <td>...</td>\n",
       "      <td>...</td>\n",
       "      <td>...</td>\n",
       "      <td>...</td>\n",
       "      <td>...</td>\n",
       "    </tr>\n",
       "    <tr>\n",
       "      <th>88</th>\n",
       "      <td>t17530718-43</td>\n",
       "      <td>17530718</td>\n",
       "      <td>theft</td>\n",
       "      <td>pocketpicking</td>\n",
       "      <td>male</td>\n",
       "      <td>None</td>\n",
       "      <td>notGuilty</td>\n",
       "      <td>None</td>\n",
       "      <td>None</td>\n",
       "    </tr>\n",
       "    <tr>\n",
       "      <th>89</th>\n",
       "      <td>t17530718-42</td>\n",
       "      <td>17530718</td>\n",
       "      <td>theft</td>\n",
       "      <td>shoplifting</td>\n",
       "      <td>male</td>\n",
       "      <td>None</td>\n",
       "      <td>notGuilty</td>\n",
       "      <td>None</td>\n",
       "      <td>None</td>\n",
       "    </tr>\n",
       "    <tr>\n",
       "      <th>90</th>\n",
       "      <td>t17530607-16</td>\n",
       "      <td>17530607</td>\n",
       "      <td>theft</td>\n",
       "      <td>theftFromPlace</td>\n",
       "      <td>male</td>\n",
       "      <td>None</td>\n",
       "      <td>guilty</td>\n",
       "      <td>transport</td>\n",
       "      <td>None</td>\n",
       "    </tr>\n",
       "    <tr>\n",
       "      <th>91</th>\n",
       "      <td>t17530718-7</td>\n",
       "      <td>17530718</td>\n",
       "      <td>theft</td>\n",
       "      <td>grandLarceny</td>\n",
       "      <td>male</td>\n",
       "      <td>None</td>\n",
       "      <td>guilty</td>\n",
       "      <td>transport</td>\n",
       "      <td>None</td>\n",
       "    </tr>\n",
       "    <tr>\n",
       "      <th>92</th>\n",
       "      <td>t17530607-5</td>\n",
       "      <td>17530607</td>\n",
       "      <td>violentTheft</td>\n",
       "      <td>highwayRobbery</td>\n",
       "      <td>male</td>\n",
       "      <td>None</td>\n",
       "      <td>notGuilty</td>\n",
       "      <td>None</td>\n",
       "      <td>None</td>\n",
       "    </tr>\n",
       "  </tbody>\n",
       "</table>\n",
       "<p>93 rows × 9 columns</p>\n",
       "</div>"
      ],
      "text/plain": [
       "        trial_id crime_date offence_category offence_subcategory  \\\n",
       "0    t17530607-8   17530607            theft        grandLarceny   \n",
       "1   t17530607-33   17530607            theft      theftFromPlace   \n",
       "2   t17530607-27   17530607            theft        grandLarceny   \n",
       "3   t17530607-26   17530607            theft        grandLarceny   \n",
       "4   t17530607-32   17530607            theft         animalTheft   \n",
       "..           ...        ...              ...                 ...   \n",
       "88  t17530718-43   17530718            theft       pocketpicking   \n",
       "89  t17530718-42   17530718            theft         shoplifting   \n",
       "90  t17530607-16   17530607            theft      theftFromPlace   \n",
       "91   t17530718-7   17530718            theft        grandLarceny   \n",
       "92   t17530607-5   17530607     violentTheft      highwayRobbery   \n",
       "\n",
       "   defendant_gender defendant_age verdict_category punishment_category  \\\n",
       "0              male          None        notGuilty                None   \n",
       "1            female          None           guilty           transport   \n",
       "2            female          None        notGuilty                None   \n",
       "3            female          None        notGuilty                None   \n",
       "4              male          None        notGuilty                None   \n",
       "..              ...           ...              ...                 ...   \n",
       "88             male          None        notGuilty                None   \n",
       "89             male          None        notGuilty                None   \n",
       "90             male          None           guilty           transport   \n",
       "91             male          None           guilty           transport   \n",
       "92             male          None        notGuilty                None   \n",
       "\n",
       "   punishment_subcategory  \n",
       "0                    None  \n",
       "1                    None  \n",
       "2                    None  \n",
       "3                    None  \n",
       "4                    None  \n",
       "..                    ...  \n",
       "88                   None  \n",
       "89                   None  \n",
       "90                   None  \n",
       "91                   None  \n",
       "92                   None  \n",
       "\n",
       "[93 rows x 9 columns]"
      ]
     },
     "execution_count": 10,
     "metadata": {},
     "output_type": "execute_result"
    }
   ],
   "source": [
    "df_crime_xml"
   ]
  },
  {
   "cell_type": "markdown",
   "metadata": {},
   "source": [
    "Note:\n",
    "\n",
    "Due to the large amount of data used in this project, we only store sample xml files in the datafolder. Running through the cells above shows the process of how we acquired the data. The dataframe that contains all 28000 entries is stored as \"df_crime_original.csv\". From now on, we will be using df_crime_original.csv as the dataset for cleaning and analysis."
   ]
  },
  {
   "cell_type": "markdown",
   "metadata": {},
   "source": [
    "#### Data cleaning (I): missing value and datatype"
   ]
  },
  {
   "cell_type": "code",
   "execution_count": 11,
   "metadata": {},
   "outputs": [],
   "source": [
    "import pandas as pd\n",
    "pd.options.mode.chained_assignment = None\n",
    "df_original= pd.read_csv('data/df_crime_original.csv', index_col=0) #load the dataset"
   ]
  },
  {
   "cell_type": "code",
   "execution_count": 12,
   "metadata": {},
   "outputs": [
    {
     "data": {
      "text/html": [
       "<div>\n",
       "<style scoped>\n",
       "    .dataframe tbody tr th:only-of-type {\n",
       "        vertical-align: middle;\n",
       "    }\n",
       "\n",
       "    .dataframe tbody tr th {\n",
       "        vertical-align: top;\n",
       "    }\n",
       "\n",
       "    .dataframe thead th {\n",
       "        text-align: right;\n",
       "    }\n",
       "</style>\n",
       "<table border=\"1\" class=\"dataframe\">\n",
       "  <thead>\n",
       "    <tr style=\"text-align: right;\">\n",
       "      <th></th>\n",
       "      <th>trial_id</th>\n",
       "      <th>crime_date</th>\n",
       "      <th>offence_category</th>\n",
       "      <th>offence_subcategory</th>\n",
       "      <th>defendant_gender</th>\n",
       "      <th>defendant_age</th>\n",
       "      <th>verdict_category</th>\n",
       "      <th>punishment_category</th>\n",
       "      <th>punishment_subcategory</th>\n",
       "    </tr>\n",
       "  </thead>\n",
       "  <tbody>\n",
       "    <tr>\n",
       "      <th>22451</th>\n",
       "      <td>t17810530-37</td>\n",
       "      <td>17810530</td>\n",
       "      <td>theft</td>\n",
       "      <td>pocketpicking</td>\n",
       "      <td>male</td>\n",
       "      <td>NaN</td>\n",
       "      <td>notGuilty</td>\n",
       "      <td>NaN</td>\n",
       "      <td>NaN</td>\n",
       "    </tr>\n",
       "    <tr>\n",
       "      <th>10834</th>\n",
       "      <td>t17970111-10</td>\n",
       "      <td>17970111</td>\n",
       "      <td>theft</td>\n",
       "      <td>receiving</td>\n",
       "      <td>female</td>\n",
       "      <td>14</td>\n",
       "      <td>notGuilty</td>\n",
       "      <td>death</td>\n",
       "      <td>NaN</td>\n",
       "    </tr>\n",
       "    <tr>\n",
       "      <th>2352</th>\n",
       "      <td>t17730217-22</td>\n",
       "      <td>17730217</td>\n",
       "      <td>theft</td>\n",
       "      <td>grandLarceny</td>\n",
       "      <td>female</td>\n",
       "      <td>NaN</td>\n",
       "      <td>guilty</td>\n",
       "      <td>transport</td>\n",
       "      <td>NaN</td>\n",
       "    </tr>\n",
       "  </tbody>\n",
       "</table>\n",
       "</div>"
      ],
      "text/plain": [
       "           trial_id  crime_date offence_category offence_subcategory  \\\n",
       "22451  t17810530-37    17810530            theft       pocketpicking   \n",
       "10834  t17970111-10    17970111            theft           receiving   \n",
       "2352   t17730217-22    17730217            theft        grandLarceny   \n",
       "\n",
       "      defendant_gender defendant_age verdict_category punishment_category  \\\n",
       "22451             male           NaN        notGuilty                 NaN   \n",
       "10834           female            14        notGuilty               death   \n",
       "2352            female           NaN           guilty           transport   \n",
       "\n",
       "      punishment_subcategory  \n",
       "22451                    NaN  \n",
       "10834                    NaN  \n",
       "2352                     NaN  "
      ]
     },
     "execution_count": 12,
     "metadata": {},
     "output_type": "execute_result"
    }
   ],
   "source": [
    "#Take a look at the dataframe\n",
    "df_original.sample(3) "
   ]
  },
  {
   "cell_type": "code",
   "execution_count": 13,
   "metadata": {},
   "outputs": [
    {
     "data": {
      "text/plain": [
       "trial_id                      0\n",
       "crime_date                    0\n",
       "offence_category             14\n",
       "offence_subcategory          14\n",
       "defendant_gender              3\n",
       "defendant_age             25019\n",
       "verdict_category             35\n",
       "punishment_category       10761\n",
       "punishment_subcategory    22146\n",
       "dtype: int64"
      ]
     },
     "execution_count": 13,
     "metadata": {},
     "output_type": "execute_result"
    }
   ],
   "source": [
    "#check where the missing value are\n",
    "df_original.isna().sum()"
   ]
  },
  {
   "cell_type": "code",
   "execution_count": 14,
   "metadata": {},
   "outputs": [
    {
     "name": "stdout",
     "output_type": "stream",
     "text": [
      "<class 'pandas.core.frame.DataFrame'>\n",
      "Int64Index: 28109 entries, 0 to 28108\n",
      "Data columns (total 9 columns):\n",
      " #   Column                  Non-Null Count  Dtype \n",
      "---  ------                  --------------  ----- \n",
      " 0   trial_id                28109 non-null  object\n",
      " 1   crime_date              28109 non-null  int64 \n",
      " 2   offence_category        28095 non-null  object\n",
      " 3   offence_subcategory     28095 non-null  object\n",
      " 4   defendant_gender        28106 non-null  object\n",
      " 5   defendant_age           3090 non-null   object\n",
      " 6   verdict_category        28074 non-null  object\n",
      " 7   punishment_category     17348 non-null  object\n",
      " 8   punishment_subcategory  5963 non-null   object\n",
      "dtypes: int64(1), object(8)\n",
      "memory usage: 2.1+ MB\n"
     ]
    }
   ],
   "source": [
    "#what is the datatype of all the varaible\n",
    "df_original.info()"
   ]
  },
  {
   "cell_type": "code",
   "execution_count": 15,
   "metadata": {},
   "outputs": [
    {
     "data": {
      "text/plain": [
       "male             19947\n",
       "female            8145\n",
       "indeterminate       14\n",
       "Name: defendant_gender, dtype: int64"
      ]
     },
     "execution_count": 15,
     "metadata": {},
     "output_type": "execute_result"
    }
   ],
   "source": [
    "#quick look at the key variable: gender\n",
    "df_original['defendant_gender'].value_counts()"
   ]
  },
  {
   "cell_type": "markdown",
   "metadata": {},
   "source": [
    "The most missing values are the defendants age. However, we will keep it for now since there might be some interesting information in this variable. It also makes sense that there will be missing values in punishment_category and punishment_subcategory since \"notguilty\" verdict will have no punishment category. In addition, not all punishment categories will have subcategory.\n",
    "Other than age, the cases with the following information missing will be dropped:\n",
    "\n",
    "1) defendant_gender: it is the key variable for the research questions so the \"indeterminate\" in the gender category will be dropped. Also if the rows do not have defendant_gender values, we will drop those rows\n",
    "\n",
    "2) offence_category and offence_subcategory: if there is no crime category, it is hard to establish the relationship between crime and verdict/punishment\n",
    "\n",
    "3) verdict_category: the same as offence_category. If there is no verdict, it is hard to address the research questions.\n",
    "\n",
    "Changes in datatype:\n",
    "\n",
    "1) offence category, defendant gender and punishment category=> to category\n",
    "\n",
    "2) crime_date => to datetime\n",
    "\n"
   ]
  },
  {
   "cell_type": "code",
   "execution_count": 16,
   "metadata": {},
   "outputs": [],
   "source": [
    "#write a function to clean up the data\n",
    "def cleaning_df(dirty_df):\n",
    "    #drop the rows where defendant_gender is indeterminate\n",
    "    clean_df = dirty_df.loc[dirty_df[\"defendant_gender\"] != 'indeterminate']\n",
    "    #drop the rows if there are missing values in these columns\n",
    "    clean_df.dropna(subset=['defendant_gender','offence_category','offence_subcategory','verdict_category'],inplace=True)\n",
    "    #change the data type\n",
    "    clean_df[['offence_category','offence_subcategory',\n",
    "    'defendant_gender','verdict_category',\n",
    "    'punishment_category','punishment_subcategory']]= clean_df[['offence_category','offence_subcategory',\n",
    "                                                          'defendant_gender','verdict_category',\n",
    "                                                          'punishment_category','punishment_subcategory']].astype('category')\n",
    "    clean_df['crime_date'] =  pd.to_datetime(clean_df['crime_date'], format='%Y%m%d')\n",
    "    return clean_df\n"
   ]
  },
  {
   "cell_type": "code",
   "execution_count": 17,
   "metadata": {},
   "outputs": [],
   "source": [
    "#passing through the data cleaning function and create a separate dataframe\n",
    "clean_df=cleaning_df(df_original)"
   ]
  },
  {
   "cell_type": "code",
   "execution_count": 18,
   "metadata": {},
   "outputs": [
    {
     "name": "stdout",
     "output_type": "stream",
     "text": [
      "<class 'pandas.core.frame.DataFrame'>\n",
      "Int64Index: 28045 entries, 0 to 28108\n",
      "Data columns (total 9 columns):\n",
      " #   Column                  Non-Null Count  Dtype         \n",
      "---  ------                  --------------  -----         \n",
      " 0   trial_id                28045 non-null  object        \n",
      " 1   crime_date              28045 non-null  datetime64[ns]\n",
      " 2   offence_category        28045 non-null  category      \n",
      " 3   offence_subcategory     28045 non-null  category      \n",
      " 4   defendant_gender        28045 non-null  category      \n",
      " 5   defendant_age           3088 non-null   object        \n",
      " 6   verdict_category        28045 non-null  category      \n",
      " 7   punishment_category     17306 non-null  category      \n",
      " 8   punishment_subcategory  5950 non-null   category      \n",
      "dtypes: category(6), datetime64[ns](1), object(2)\n",
      "memory usage: 1.0+ MB\n"
     ]
    }
   ],
   "source": [
    "#insepct the dataframe to check if all the columns are in the appropriate datatype\n",
    "clean_df.info()"
   ]
  },
  {
   "cell_type": "code",
   "execution_count": 19,
   "metadata": {},
   "outputs": [
    {
     "data": {
      "text/plain": [
       "trial_id                      0\n",
       "crime_date                    0\n",
       "offence_category              0\n",
       "offence_subcategory           0\n",
       "defendant_gender              0\n",
       "defendant_age             24957\n",
       "verdict_category              0\n",
       "punishment_category       10739\n",
       "punishment_subcategory    22095\n",
       "dtype: int64"
      ]
     },
     "execution_count": 19,
     "metadata": {},
     "output_type": "execute_result"
    }
   ],
   "source": [
    "#check the dataframe for missing values. There should only be missing values at defendant_age and publishment sub/category.\n",
    "clean_df.isna().sum()"
   ]
  },
  {
   "cell_type": "markdown",
   "metadata": {},
   "source": [
    "#### Data cleaning (II): defendant_age\n",
    "Now the dataframe is clean and the issue of missing values is taken care of. We now look at defendant_age."
   ]
  },
  {
   "cell_type": "code",
   "execution_count": 20,
   "metadata": {},
   "outputs": [
    {
     "data": {
      "text/plain": [
       "array(['32', nan, '25', 'Sixteen', '24', '23', 'seventy', '16', 'eleven',\n",
       "       '39', '40', '30', '26', '41', '44', '15', '19', '35', '28', '21',\n",
       "       '46', '29', '63', '22', '20', '64', '38', '14', '50', '45', '55',\n",
       "       'twelve', '27', 'thirty', '59', '58', '33', '18', '60', '36', '31',\n",
       "       '68', '42', '73', '17', 'nineteen years',\n",
       "       'two years of seventy years of age', '51', 'about 11 years age',\n",
       "       '53', '43', '65', '47', '12', 'fourteen', 'ten', '15 years of age',\n",
       "       '37', '12 years old', 'nineteen', '49', '10', 'eighteen',\n",
       "       'seventeen years of age', '24 years of age',\n",
       "       'almost sixteen years of age',\n",
       "       'between twelve and thirteen years of age', '56', '17th year',\n",
       "       '67', 'seven years old', 'thirteen', 'sixteen',\n",
       "       'between nine and ten years of age', '13', '34', '54',\n",
       "       '14 years of age', 'twenty', 'fifteen',\n",
       "       'between 12 and 13 years old', '61', '71', '48',\n",
       "       'nine years of age', 'eleven years old and six months', 'Nineteen',\n",
       "       \"fourteen years old next New Year's Day\", '57', '52', '62',\n",
       "       'seventeen', '75', '74', 'sixty-three', 'fourteen years old',\n",
       "       'Fourteen', '14 years old', 'twenty years of age', 'twenty one',\n",
       "       'thirteen years', '66', '11', 'thirteen years old', '11 or 12',\n",
       "       'between eighteen and nineteen years old', 'between 13 and 14',\n",
       "       'fourteen years of age', 'fifty', 'sixty-two', '69', '72',\n",
       "       'Seventeen', 'seventeen years', 'not 12 years old', '70',\n",
       "       'thirteen years of age', '78', 'Not quite 15 years old',\n",
       "       'something more than twenty years of age', 'upwards of seventy',\n",
       "       'nine', 'Fifteen', '9', '51.', 'fifteen years old', 'Aged 20',\n",
       "       'between eighteen and nineteen', '17 or 18 years old',\n",
       "       'eighty-three', 'not quite thirteen years old',\n",
       "       'twelve years of age', '13 years of age', 'seventeen years old',\n",
       "       'Not nine', '10 or 11', 'one 8 years old, the other 11',\n",
       "       '15 years old', 'twenty-three', '13 and 14',\n",
       "       'fourteen or fifteen years of age', 'fifty-five',\n",
       "       'twenty-seven or twenty-eight', '21 or 22', '17 years',\n",
       "       'twenty-five', 'sixty', 'Thirteen', 'sixty-three years of age',\n",
       "       'sixteen years of age', 'thirteen next July', 'twenty-two',\n",
       "       'sixty-eight years', 'about sixteen years of age', '76',\n",
       "       'eighteen years of age', 'fifteen years of age',\n",
       "       'about fifteen or sixteen years of age', '16 years of age',\n",
       "       'twenty-one', 'Fifty-one', 'Sixty-five',\n",
       "       'eighteen or nineteen years old', '17 years of age', '13 years',\n",
       "       'eighteen or nineteen years of age', 'thirty six', 'twenty years',\n",
       "       'Nine', 'twenty-four', 'thirty-eight', '22 years'], dtype=object)"
      ]
     },
     "execution_count": 20,
     "metadata": {},
     "output_type": "execute_result"
    }
   ],
   "source": [
    "#take a look at what we are dealing with\n",
    "clean_df['defendant_age'].unique()"
   ]
  },
  {
   "cell_type": "code",
   "execution_count": 21,
   "metadata": {},
   "outputs": [
    {
     "data": {
      "text/plain": [
       "16 years of age                             1\n",
       "one 8 years old, the other 11               1\n",
       "seventeen years old                         1\n",
       "Sixty-five                                  1\n",
       "67                                          1\n",
       "between eighteen and nineteen years old     1\n",
       "17th year                                   1\n",
       "about sixteen years of age                  1\n",
       "thirty six                                  1\n",
       "twenty years                                1\n",
       "between twelve and thirteen years of age    1\n",
       "51.                                         1\n",
       "21 or 22                                    1\n",
       "17 or 18 years old                          1\n",
       "about 11 years age                          1\n",
       "17 years of age                             1\n",
       "twenty-seven or twenty-eight                1\n",
       "fifty                                       1\n",
       "13 years of age                             1\n",
       "22 years                                    1\n",
       "78                                          1\n",
       "sixty                                       1\n",
       "76                                          1\n",
       "something more than twenty years of age     1\n",
       "almost sixteen years of age                 1\n",
       "seven years old                             1\n",
       "13 years                                    1\n",
       "sixty-three years of age                    1\n",
       "sixty-two                                   1\n",
       "fourteen years old next New Year's Day      1\n",
       "Name: defendant_age, dtype: int64"
      ]
     },
     "execution_count": 21,
     "metadata": {},
     "output_type": "execute_result"
    }
   ],
   "source": [
    "clean_df['defendant_age'].value_counts(ascending=True).head(30)"
   ]
  },
  {
   "cell_type": "markdown",
   "metadata": {},
   "source": [
    "The defendant_age is a bit all over the place. It is expected due to the standards of record keeping in different eras. As we can see, some ages are numbers and some ages are a mixture of the two. Though only 10% trials have defendants' age recorded, we will still keep the age data. 10% doesn't sound much but there are still 3000 cases. There could be information hidden inside.\n",
    "\n",
    "Since this data a bit messy, We will need to attempt to clean it up into a useful format. First get rid of \"-\", \"years\" and \"old\" from the strings and then turn words into number. Drop those unconventional values such as 'something more than twenty years of age' or 'upwards of seventy', since these only account for a small percentage of the ages."
   ]
  },
  {
   "cell_type": "code",
   "execution_count": 22,
   "metadata": {},
   "outputs": [],
   "source": [
    "# There are libraries that can change words to numbers (https://pypi.org/project/word2number/). \n",
    "# However, we decide to use this fucnction from stackoverflow. \n",
    "# reference: https://stackoverflow.com/questions/493174/is-there-a-way-to-convert-number-words-to-integers\n",
    "# It is easier to adapt a funtion to what we need.\n",
    "\n",
    "def text2int(textnum, numwords={}):\n",
    "    \n",
    "   \n",
    "    \n",
    "    if not numwords:\n",
    "        units = [\n",
    "        \"zero\", \"one\", \"two\", \"three\", \"four\", \"five\", \"six\", \"seven\", \"eight\",\n",
    "        \"nine\", \"ten\", \"eleven\", \"twelve\", \"thirteen\", \"fourteen\", \"fifteen\",\n",
    "        \"sixteen\", \"seventeen\", \"eighteen\", \"nineteen\",\n",
    "      ]\n",
    "\n",
    "        tens = [\"\", \"\", \"twenty\", \"thirty\", \"forty\", \"fifty\", \"sixty\", \"seventy\", \"eighty\", \"ninety\"]\n",
    "\n",
    "        scales = [\"hundred\", \"thousand\", \"million\", \"billion\", \"trillion\"]\n",
    "\n",
    "        numwords[\"and\"] = (1, 0)\n",
    "        for idx, word in enumerate(units):    numwords[word] = (1, idx)\n",
    "        for idx, word in enumerate(tens):     numwords[word] = (1, idx * 10)\n",
    "        for idx, word in enumerate(scales):   numwords[word] = (10 ** (idx * 3 or 2), 0)\n",
    "\n",
    "    current = result = 0\n",
    "    for word in textnum.split():\n",
    "        if word not in numwords:\n",
    "            try:\n",
    "                result=int(textnum)\n",
    "            except:\n",
    "                result= None\n",
    "            return result\n",
    "            #in the original design, if the function failed to covert the string, it raised Exception(\"Illegal word: \" + word)\n",
    "            #However, what we want is to continue convert string into number and reutrn those failed to convert as nan. \n",
    "        else:\n",
    "            scale, increment = numwords[word]\n",
    "            current = current * scale + increment\n",
    "            if scale > 100:\n",
    "                result += current\n",
    "                current = 0\n",
    "\n",
    "    return result + current"
   ]
  },
  {
   "cell_type": "code",
   "execution_count": 23,
   "metadata": {},
   "outputs": [],
   "source": [
    "#write a function to clean up the age column\n",
    "def age_clean(age_clean_df):\n",
    "    #make the column lower case and trun into string\n",
    "    age_clean_df.loc[:,'defendant_age'] = age_clean_df['defendant_age'].str.lower()\n",
    "    age_clean_df['defendant_age'] = age_clean_df['defendant_age'].astype('str') \n",
    "    #get rid of \"years\",'ages'...etc in the column\n",
    "    age_clean_df['defendant_age']=age_clean_df['defendant_age'].str.replace(r'.years', '').replace(r'.of age','').replace(r'.old','').replace(r'aged','')\n",
    "    #apply the funtion to turn words into number\n",
    "    age_clean_df['defendant_age'] =age_clean_df['defendant_age'].map(lambda x:text2int(x) )\n",
    "    #make the age datatype into interger\n",
    "    age_clean_df['defendant_age'] = age_clean_df['defendant_age'].astype('Int64')\n",
    "    return age_clean_df"
   ]
  },
  {
   "cell_type": "code",
   "execution_count": 24,
   "metadata": {},
   "outputs": [
    {
     "name": "stderr",
     "output_type": "stream",
     "text": [
      "/Users/Yi-Ting/anaconda3/envs/DSM020cw/lib/python3.7/site-packages/ipykernel_launcher.py:7: FutureWarning: The default value of regex will change from True to False in a future version.\n",
      "  import sys\n"
     ]
    }
   ],
   "source": [
    "#apply the function of cleaning ages and copy a new one\n",
    "df_crime=age_clean(clean_df) "
   ]
  },
  {
   "cell_type": "code",
   "execution_count": 25,
   "metadata": {},
   "outputs": [
    {
     "name": "stdout",
     "output_type": "stream",
     "text": [
      "<class 'pandas.core.frame.DataFrame'>\n",
      "Int64Index: 28045 entries, 0 to 28108\n",
      "Data columns (total 9 columns):\n",
      " #   Column                  Non-Null Count  Dtype         \n",
      "---  ------                  --------------  -----         \n",
      " 0   trial_id                28045 non-null  object        \n",
      " 1   crime_date              28045 non-null  datetime64[ns]\n",
      " 2   offence_category        28045 non-null  category      \n",
      " 3   offence_subcategory     28045 non-null  category      \n",
      " 4   defendant_gender        28045 non-null  category      \n",
      " 5   defendant_age           3006 non-null   Int64         \n",
      " 6   verdict_category        28045 non-null  category      \n",
      " 7   punishment_category     17306 non-null  category      \n",
      " 8   punishment_subcategory  5950 non-null   category      \n",
      "dtypes: Int64(1), category(6), datetime64[ns](1), object(1)\n",
      "memory usage: 1.0+ MB\n"
     ]
    }
   ],
   "source": [
    "# Inspect the datafrme\n",
    "#Now the dataframe should be clean: missing values were dealt with and datatypes are correct for further analysis\n",
    "df_crime.info()"
   ]
  },
  {
   "cell_type": "markdown",
   "metadata": {},
   "source": [
    "The data now is clean for analysis. "
   ]
  },
  {
   "cell_type": "markdown",
   "metadata": {},
   "source": [
    "### Part 2: Data Analysis\n",
    "\n",
    "In this section we will explore the data using descriptive statistics to give us views of the nature of the dataset. This includes:\n",
    "\n",
    "1) how trials volumes fluctuated through time and the distribution of different different criminal offences committed \n",
    "\n",
    "2) the gender distribution among different crimes\n",
    "\n",
    "3) the relationship between defendant ages with crime and gender\n",
    "\n",
    "4) the relationship between the offence committed and the punishment given"
   ]
  },
  {
   "cell_type": "code",
   "execution_count": 26,
   "metadata": {},
   "outputs": [],
   "source": [
    "#load visualization packages and numpy\n",
    "import matplotlib as mpl\n",
    "import matplotlib.pyplot as plt\n",
    "import seaborn as sns\n",
    "import numpy as np\n",
    "%matplotlib inline\n",
    "sns.set_style(\"darkgrid\")"
   ]
  },
  {
   "cell_type": "code",
   "execution_count": 27,
   "metadata": {},
   "outputs": [
    {
     "data": {
      "text/html": [
       "<div>\n",
       "<style scoped>\n",
       "    .dataframe tbody tr th:only-of-type {\n",
       "        vertical-align: middle;\n",
       "    }\n",
       "\n",
       "    .dataframe tbody tr th {\n",
       "        vertical-align: top;\n",
       "    }\n",
       "\n",
       "    .dataframe thead th {\n",
       "        text-align: right;\n",
       "    }\n",
       "</style>\n",
       "<table border=\"1\" class=\"dataframe\">\n",
       "  <thead>\n",
       "    <tr style=\"text-align: right;\">\n",
       "      <th></th>\n",
       "      <th>trial_id</th>\n",
       "      <th>crime_date</th>\n",
       "      <th>offence_category</th>\n",
       "      <th>offence_subcategory</th>\n",
       "      <th>defendant_gender</th>\n",
       "      <th>defendant_age</th>\n",
       "      <th>verdict_category</th>\n",
       "      <th>punishment_category</th>\n",
       "      <th>punishment_subcategory</th>\n",
       "    </tr>\n",
       "  </thead>\n",
       "  <tbody>\n",
       "    <tr>\n",
       "      <th>27648</th>\n",
       "      <td>t17870523-92</td>\n",
       "      <td>1787-05-23</td>\n",
       "      <td>theft</td>\n",
       "      <td>grandLarceny</td>\n",
       "      <td>female</td>\n",
       "      <td>&lt;NA&gt;</td>\n",
       "      <td>notGuilty</td>\n",
       "      <td>transport</td>\n",
       "      <td>NaN</td>\n",
       "    </tr>\n",
       "    <tr>\n",
       "      <th>12928</th>\n",
       "      <td>t17860426-72</td>\n",
       "      <td>1786-04-26</td>\n",
       "      <td>theft</td>\n",
       "      <td>receiving</td>\n",
       "      <td>female</td>\n",
       "      <td>&lt;NA&gt;</td>\n",
       "      <td>notGuilty</td>\n",
       "      <td>NaN</td>\n",
       "      <td>NaN</td>\n",
       "    </tr>\n",
       "    <tr>\n",
       "      <th>817</th>\n",
       "      <td>t17591205-13</td>\n",
       "      <td>1759-12-05</td>\n",
       "      <td>theft</td>\n",
       "      <td>pettyLarceny</td>\n",
       "      <td>male</td>\n",
       "      <td>&lt;NA&gt;</td>\n",
       "      <td>notGuilty</td>\n",
       "      <td>NaN</td>\n",
       "      <td>NaN</td>\n",
       "    </tr>\n",
       "    <tr>\n",
       "      <th>26063</th>\n",
       "      <td>t17920912-43</td>\n",
       "      <td>1792-09-12</td>\n",
       "      <td>theft</td>\n",
       "      <td>grandLarceny</td>\n",
       "      <td>male</td>\n",
       "      <td>&lt;NA&gt;</td>\n",
       "      <td>guilty</td>\n",
       "      <td>corporal</td>\n",
       "      <td>whipping</td>\n",
       "    </tr>\n",
       "    <tr>\n",
       "      <th>10980</th>\n",
       "      <td>t17660219-16</td>\n",
       "      <td>1766-02-19</td>\n",
       "      <td>theft</td>\n",
       "      <td>grandLarceny</td>\n",
       "      <td>male</td>\n",
       "      <td>&lt;NA&gt;</td>\n",
       "      <td>guilty</td>\n",
       "      <td>transport</td>\n",
       "      <td>NaN</td>\n",
       "    </tr>\n",
       "  </tbody>\n",
       "</table>\n",
       "</div>"
      ],
      "text/plain": [
       "           trial_id crime_date offence_category offence_subcategory  \\\n",
       "27648  t17870523-92 1787-05-23            theft        grandLarceny   \n",
       "12928  t17860426-72 1786-04-26            theft           receiving   \n",
       "817    t17591205-13 1759-12-05            theft        pettyLarceny   \n",
       "26063  t17920912-43 1792-09-12            theft        grandLarceny   \n",
       "10980  t17660219-16 1766-02-19            theft        grandLarceny   \n",
       "\n",
       "      defendant_gender  defendant_age verdict_category punishment_category  \\\n",
       "27648           female           <NA>        notGuilty           transport   \n",
       "12928           female           <NA>        notGuilty                 NaN   \n",
       "817               male           <NA>        notGuilty                 NaN   \n",
       "26063             male           <NA>           guilty            corporal   \n",
       "10980             male           <NA>           guilty           transport   \n",
       "\n",
       "      punishment_subcategory  \n",
       "27648                    NaN  \n",
       "12928                    NaN  \n",
       "817                      NaN  \n",
       "26063               whipping  \n",
       "10980                    NaN  "
      ]
     },
     "execution_count": 27,
     "metadata": {},
     "output_type": "execute_result"
    }
   ],
   "source": [
    "df_crime.sample(5)"
   ]
  },
  {
   "cell_type": "markdown",
   "metadata": {},
   "source": [
    "#### (1) time series and offence category"
   ]
  },
  {
   "cell_type": "code",
   "execution_count": 28,
   "metadata": {},
   "outputs": [
    {
     "data": {
      "text/plain": [
       "crime_date\n",
       "1750    4030\n",
       "1760    4201\n",
       "1770    5971\n",
       "1780    7879\n",
       "1790    5964\n",
       "Name: offence_category, dtype: int64"
      ]
     },
     "execution_count": 28,
     "metadata": {},
     "output_type": "execute_result"
    }
   ],
   "source": [
    "# Let's look at the number of trials volumes in each decade\n",
    "time_series=df_crime.groupby((df_crime.crime_date.dt.year//10)*10).agg('offence_category').size()\n",
    "time_series"
   ]
  },
  {
   "cell_type": "code",
   "execution_count": 29,
   "metadata": {},
   "outputs": [
    {
     "data": {
      "text/plain": [
       "<AxesSubplot:title={'center':'Trial Volumes by year'}, xlabel='crime_date', ylabel='count'>"
      ]
     },
     "execution_count": 29,
     "metadata": {},
     "output_type": "execute_result"
    },
    {
     "data": {
      "image/png": "[encoded data removed]",
      "text/plain": [
       "<Figure size 576x432 with 1 Axes>"
      ]
     },
     "metadata": {},
     "output_type": "display_data"
    }
   ],
   "source": [
    "sns.set(font_scale = 1.3)\n",
    "\n",
    "time_series_crime=df_crime.groupby(df_crime.crime_date.dt.year).agg('offence_category').size()\n",
    "fig = plt.figure(1, figsize=(8,6))\n",
    "ax = plt.subplot()\n",
    "ax.set_xlabel('Year')\n",
    "ax.set_ylabel('count')\n",
    "ax.set_title('Trial Volumes by year')\n",
    "\n",
    "time_series_crime.plot(ax=ax)"
   ]
  },
  {
   "cell_type": "markdown",
   "metadata": {},
   "source": [
    "We can see there is a spike of trial records in the early 1780s. This could result from 1) trial record keeping practice, i.e. the practice became more thorough 2) there were more crime committed during 1780s. Both are possible explanation. As was mentioned in the introduction of the database, since 1780s, the City had taken over the control of publishing the proceedings. Instead of publishing only certain sentimental crimes, the official records would prefer more comprehensive documentation. In addition, in early industrial revolution, the crime rate increased dramatically (Emsley, 2013), which can also explain the increase of trial records."
   ]
  },
  {
   "cell_type": "code",
   "execution_count": 30,
   "metadata": {},
   "outputs": [
    {
     "data": {
      "text/plain": [
       "theft            23449\n",
       "violentTheft      1899\n",
       "deception          949\n",
       "kill               485\n",
       "royalOffences      455\n",
       "miscellaneous      327\n",
       "sexual             261\n",
       "breakingPeace      167\n",
       "damage              53\n",
       "Name: offence_category, dtype: int64"
      ]
     },
     "execution_count": 30,
     "metadata": {},
     "output_type": "execute_result"
    }
   ],
   "source": [
    "#Let's look at different offene cateogries\n",
    "offence_types=df_crime.offence_category.value_counts()\n",
    "offence_types"
   ]
  },
  {
   "cell_type": "code",
   "execution_count": 31,
   "metadata": {},
   "outputs": [
    {
     "data": {
      "text/plain": [
       "<AxesSubplot:title={'center':'Crime Volumes by Category'}, xlabel='Volume', ylabel='Crime'>"
      ]
     },
     "execution_count": 31,
     "metadata": {},
     "output_type": "execute_result"
    },
    {
     "data": {
      "image/png": "[encoded data removed]",
      "text/plain": [
       "<Figure size 576x432 with 1 Axes>"
      ]
     },
     "metadata": {},
     "output_type": "display_data"
    }
   ],
   "source": [
    "#visualize the crime distribution\n",
    "fig = plt.figure(1, figsize=(8,6))\n",
    "ax = plt.subplot()\n",
    "ax.set_title('Crime Volumes by Category')\n",
    "ax.set_xlabel('Volume')\n",
    "ax.set_ylabel('Crime')\n",
    "\n",
    "offence_types.plot.barh()"
   ]
  },
  {
   "cell_type": "code",
   "execution_count": 32,
   "metadata": {},
   "outputs": [
    {
     "data": {
      "text/plain": [
       "offence_category\n",
       "breakingPeace    0.6\n",
       "damage           0.2\n",
       "deception        3.4\n",
       "kill             1.7\n",
       "miscellaneous    1.2\n",
       "royalOffences    1.6\n",
       "sexual           0.9\n",
       "theft           83.6\n",
       "violentTheft     6.8\n",
       "dtype: float64"
      ]
     },
     "execution_count": 32,
     "metadata": {},
     "output_type": "execute_result"
    }
   ],
   "source": [
    "#put the crime rate in percentage \n",
    "pd.options.display.float_format = '{:.1f}'.format\n",
    "crime_category=df_crime.groupby(['offence_category']).size()\n",
    "crime_category=crime_category/len(df_crime)*100 #divide the number of each crime category by the totoal number of trial records\n",
    "crime_category"
   ]
  },
  {
   "cell_type": "code",
   "execution_count": 33,
   "metadata": {},
   "outputs": [
    {
     "data": {
      "text/plain": [
       "<AxesSubplot:title={'center':'Crime Categories by year'}, xlabel='crime_date', ylabel='count'>"
      ]
     },
     "execution_count": 33,
     "metadata": {},
     "output_type": "execute_result"
    },
    {
     "data": {
      "image/png": "[encoded data removed]",
      "text/plain": [
       "<Figure size 720x432 with 1 Axes>"
      ]
     },
     "metadata": {},
     "output_type": "display_data"
    }
   ],
   "source": [
    "#visualize the change of crime categories through 50 years\n",
    "year_crime=df_crime.groupby([df_crime.crime_date.dt.year,'offence_category']).size().unstack(level=1)\n",
    "\n",
    "fig = plt.figure(1, figsize=(10,6))\n",
    "ax = plt.subplot()\n",
    "ax.set_xlabel('Year')\n",
    "ax.set_ylabel('count')\n",
    "ax.set_title('Crime Categories by year')\n",
    "\n",
    "year_crime.plot(ax=ax) "
   ]
  },
  {
   "cell_type": "markdown",
   "metadata": {},
   "source": [
    "As we can see, 83% of trial records in the 50 years are under the charge of theft. Hence, the line graph above was not particularly useful since we lost the information on how the rest of crime categories changed through years. So let’s exclude theft crimes and plot the line graph again."
   ]
  },
  {
   "cell_type": "code",
   "execution_count": 34,
   "metadata": {},
   "outputs": [
    {
     "data": {
      "text/plain": [
       "<AxesSubplot:xlabel='crime_date', ylabel='count'>"
      ]
     },
     "execution_count": 34,
     "metadata": {},
     "output_type": "execute_result"
    },
    {
     "data": {
      "image/png": "[encoded data removed]",
      "text/plain": [
       "<Figure size 720x432 with 1 Axes>"
      ]
     },
     "metadata": {},
     "output_type": "display_data"
    }
   ],
   "source": [
    "fig = plt.figure(1, figsize=(10,6))\n",
    "\n",
    "ax = plt.subplot()\n",
    "ax.set_xlabel('Year')\n",
    "ax.set_ylabel('count')\n",
    "\n",
    "year_crime.loc[:, year_crime.columns != 'theft'].plot(ax=ax)"
   ]
  },
  {
   "cell_type": "markdown",
   "metadata": {},
   "source": [
    "The graph is still a bit messy but we can see few key points. All the crime types have a spike in 1789s. Violenttheft is the second biggest crime categories. The most drastic increases happened in 1780 for the crime of breaking peace."
   ]
  },
  {
   "cell_type": "markdown",
   "metadata": {},
   "source": [
    "#### (2) defendant gender and age"
   ]
  },
  {
   "cell_type": "code",
   "execution_count": 35,
   "metadata": {},
   "outputs": [
    {
     "data": {
      "text/plain": [
       "male      19909\n",
       "female     8136\n",
       "Name: defendant_gender, dtype: int64"
      ]
     },
     "execution_count": 35,
     "metadata": {},
     "output_type": "execute_result"
    }
   ],
   "source": [
    "df_crime.defendant_gender.value_counts()"
   ]
  },
  {
   "cell_type": "markdown",
   "metadata": {},
   "source": [
    "It is interesting to notice the gender ratio. There are more than double the number of male than female defendants in this time period. It could result from 1) less women in the British population at the time. Hence, less crime committed by female. 2) less women got arrested/charged. Hence, less trials recorded. It is a complicated issue, which will be addressed later. Since the difference in number of male defendants and female defendants is quite drastic, it will be easier to see a pattern if we normalize the count of each offence_category to a percentage by each gender's total."
   ]
  },
  {
   "cell_type": "code",
   "execution_count": 36,
   "metadata": {},
   "outputs": [
    {
     "data": {
      "text/html": [
       "<div>\n",
       "<style scoped>\n",
       "    .dataframe tbody tr th:only-of-type {\n",
       "        vertical-align: middle;\n",
       "    }\n",
       "\n",
       "    .dataframe tbody tr th {\n",
       "        vertical-align: top;\n",
       "    }\n",
       "\n",
       "    .dataframe thead th {\n",
       "        text-align: right;\n",
       "    }\n",
       "</style>\n",
       "<table border=\"1\" class=\"dataframe\">\n",
       "  <thead>\n",
       "    <tr style=\"text-align: right;\">\n",
       "      <th>defendant_gender</th>\n",
       "      <th>female</th>\n",
       "      <th>male</th>\n",
       "    </tr>\n",
       "    <tr>\n",
       "      <th>offence_category</th>\n",
       "      <th></th>\n",
       "      <th></th>\n",
       "    </tr>\n",
       "  </thead>\n",
       "  <tbody>\n",
       "    <tr>\n",
       "      <th>breakingPeace</th>\n",
       "      <td>0.1</td>\n",
       "      <td>0.8</td>\n",
       "    </tr>\n",
       "    <tr>\n",
       "      <th>damage</th>\n",
       "      <td>0.2</td>\n",
       "      <td>0.2</td>\n",
       "    </tr>\n",
       "    <tr>\n",
       "      <th>deception</th>\n",
       "      <td>1.3</td>\n",
       "      <td>4.2</td>\n",
       "    </tr>\n",
       "    <tr>\n",
       "      <th>kill</th>\n",
       "      <td>1.2</td>\n",
       "      <td>1.9</td>\n",
       "    </tr>\n",
       "    <tr>\n",
       "      <th>miscellaneous</th>\n",
       "      <td>0.4</td>\n",
       "      <td>1.5</td>\n",
       "    </tr>\n",
       "    <tr>\n",
       "      <th>royalOffences</th>\n",
       "      <td>1.6</td>\n",
       "      <td>1.6</td>\n",
       "    </tr>\n",
       "    <tr>\n",
       "      <th>sexual</th>\n",
       "      <td>0.3</td>\n",
       "      <td>1.2</td>\n",
       "    </tr>\n",
       "    <tr>\n",
       "      <th>theft</th>\n",
       "      <td>92.0</td>\n",
       "      <td>80.2</td>\n",
       "    </tr>\n",
       "    <tr>\n",
       "      <th>violentTheft</th>\n",
       "      <td>2.9</td>\n",
       "      <td>8.3</td>\n",
       "    </tr>\n",
       "  </tbody>\n",
       "</table>\n",
       "</div>"
      ],
      "text/plain": [
       "defendant_gender  female  male\n",
       "offence_category              \n",
       "breakingPeace        0.1   0.8\n",
       "damage               0.2   0.2\n",
       "deception            1.3   4.2\n",
       "kill                 1.2   1.9\n",
       "miscellaneous        0.4   1.5\n",
       "royalOffences        1.6   1.6\n",
       "sexual               0.3   1.2\n",
       "theft               92.0  80.2\n",
       "violentTheft         2.9   8.3"
      ]
     },
     "execution_count": 36,
     "metadata": {},
     "output_type": "execute_result"
    }
   ],
   "source": [
    "gender_crime=pd.crosstab(df_crime['offence_category'],df_crime['defendant_gender'], normalize='columns')\n",
    "gender_crime=gender_crime*100\n",
    "gender_crime"
   ]
  },
  {
   "cell_type": "markdown",
   "metadata": {},
   "source": [
    "In the dataset for both genders, it shows that most women were charged with theft and considerably few in other crime categories (less than 3%). For men, other than 80% charged with theft crimes, there are still 8.3% charged with violent theft and 4.2% with deception. Does this imply that the societal role of males and females at the time related to the types of crime they committed?"
   ]
  },
  {
   "cell_type": "code",
   "execution_count": 37,
   "metadata": {},
   "outputs": [
    {
     "data": {
      "text/plain": [
       "count   3006.0\n",
       "mean      28.8\n",
       "std       12.7\n",
       "min        9.0\n",
       "25%       19.0\n",
       "50%       25.0\n",
       "75%       36.0\n",
       "max       78.0\n",
       "Name: defendant_age, dtype: float64"
      ]
     },
     "execution_count": 37,
     "metadata": {},
     "output_type": "execute_result"
    }
   ],
   "source": [
    "#Let's look at defenants' age\n",
    "df_crime.defendant_age.describe()"
   ]
  },
  {
   "cell_type": "code",
   "execution_count": 38,
   "metadata": {},
   "outputs": [],
   "source": [
    "#We knew already that there are only 3006 rows with defenants' age recorded\n",
    "#In order to manipulate the data more easily, we will create a separate dataframe that only contained the rows that with ages values.\n",
    "df_crime_age=df_crime.copy()\n",
    "df_crime_age=df_crime_age.dropna(subset=['defendant_age'])"
   ]
  },
  {
   "cell_type": "code",
   "execution_count": 39,
   "metadata": {},
   "outputs": [
    {
     "name": "stderr",
     "output_type": "stream",
     "text": [
      "/Users/Yi-Ting/anaconda3/envs/DSM020cw/lib/python3.7/site-packages/seaborn/_decorators.py:43: FutureWarning: Pass the following variable as a keyword arg: x. From version 0.12, the only valid positional argument will be `data`, and passing other arguments without an explicit keyword will result in an error or misinterpretation.\n",
      "  FutureWarning\n",
      "/Users/Yi-Ting/anaconda3/envs/DSM020cw/lib/python3.7/site-packages/seaborn/distributions.py:2557: FutureWarning: `distplot` is a deprecated function and will be removed in a future version. Please adapt your code to use either `displot` (a figure-level function with similar flexibility) or `histplot` (an axes-level function for histograms).\n",
      "  warnings.warn(msg, FutureWarning)\n"
     ]
    },
    {
     "data": {
      "text/plain": [
       "[Text(0.5, 0, '')]"
      ]
     },
     "execution_count": 39,
     "metadata": {},
     "output_type": "execute_result"
    },
    {
     "data": {
      "image/png": "[encoded data removed]",
      "text/plain": [
       "<Figure size 648x432 with 2 Axes>"
      ]
     },
     "metadata": {},
     "output_type": "display_data"
    }
   ],
   "source": [
    "#visualize the distribution of ages with both box plots and historgram and kde plot, with mark on mean, median and mode\n",
    "sns.set(font_scale =1.5)\n",
    "\n",
    "f, (ax_box, ax_hist) = plt.subplots(2, sharex=True, gridspec_kw= {\"height_ratios\": (0.2, 1)},figsize=(9,6))\n",
    "mean=df_crime_age['defendant_age'].mean()\n",
    "median=df_crime_age['defendant_age'].median()\n",
    "mode=df_crime_age['defendant_age'].mode().to_numpy()[0]\n",
    "\n",
    "sns.boxplot(df_crime_age['defendant_age'], ax=ax_box)\n",
    "ax_box.axvline(mean, color='r', linestyle='--')\n",
    "ax_box.axvline(median, color='g', linestyle='-')\n",
    "ax_box.axvline(mode, color='b', linestyle='-')\n",
    "\n",
    "sns.distplot(df_crime_age['defendant_age'], ax=ax_hist)\n",
    "ax_hist.axvline(mean, color='r', linestyle='--')\n",
    "ax_hist.axvline(median, color='g', linestyle='-')\n",
    "ax_hist.axvline(mode, color='b', linestyle='-')\n",
    "ax_hist.set_xlabel(\"defendant's age\")\n",
    "\n",
    "plt.legend({'Mean':mean,'Median':median,'Mode':mode})\n",
    "\n",
    "ax_box.set(xlabel='')"
   ]
  },
  {
   "cell_type": "code",
   "execution_count": 40,
   "metadata": {},
   "outputs": [
    {
     "data": {
      "text/html": [
       "<div>\n",
       "<style scoped>\n",
       "    .dataframe tbody tr th:only-of-type {\n",
       "        vertical-align: middle;\n",
       "    }\n",
       "\n",
       "    .dataframe tbody tr th {\n",
       "        vertical-align: top;\n",
       "    }\n",
       "\n",
       "    .dataframe thead th {\n",
       "        text-align: right;\n",
       "    }\n",
       "</style>\n",
       "<table border=\"1\" class=\"dataframe\">\n",
       "  <thead>\n",
       "    <tr style=\"text-align: right;\">\n",
       "      <th></th>\n",
       "      <th>mean_age</th>\n",
       "    </tr>\n",
       "    <tr>\n",
       "      <th>defendant_gender</th>\n",
       "      <th></th>\n",
       "    </tr>\n",
       "  </thead>\n",
       "  <tbody>\n",
       "    <tr>\n",
       "      <th>female</th>\n",
       "      <td>30.6</td>\n",
       "    </tr>\n",
       "    <tr>\n",
       "      <th>male</th>\n",
       "      <td>28.2</td>\n",
       "    </tr>\n",
       "  </tbody>\n",
       "</table>\n",
       "</div>"
      ],
      "text/plain": [
       "                  mean_age\n",
       "defendant_gender          \n",
       "female                30.6\n",
       "male                  28.2"
      ]
     },
     "execution_count": 40,
     "metadata": {},
     "output_type": "execute_result"
    }
   ],
   "source": [
    "#computing the average age for both male and female defendants\n",
    "gender_age=df_crime_age.groupby(\"defendant_gender\").agg(mean_age=('defendant_age','mean') )\n",
    "gender_age"
   ]
  },
  {
   "cell_type": "markdown",
   "metadata": {},
   "source": [
    "We can see most of the defendents are between 20 and 30 years old. The average ages of both male and female defendants are similar. However, let's check the distribution of these records against the year of the trial"
   ]
  },
  {
   "cell_type": "code",
   "execution_count": 41,
   "metadata": {},
   "outputs": [
    {
     "data": {
      "text/html": [
       "<div>\n",
       "<style scoped>\n",
       "    .dataframe tbody tr th:only-of-type {\n",
       "        vertical-align: middle;\n",
       "    }\n",
       "\n",
       "    .dataframe tbody tr th {\n",
       "        vertical-align: top;\n",
       "    }\n",
       "\n",
       "    .dataframe thead th {\n",
       "        text-align: right;\n",
       "    }\n",
       "</style>\n",
       "<table border=\"1\" class=\"dataframe\">\n",
       "  <thead>\n",
       "    <tr style=\"text-align: right;\">\n",
       "      <th></th>\n",
       "      <th>mean_age</th>\n",
       "      <th>size</th>\n",
       "    </tr>\n",
       "    <tr>\n",
       "      <th>crime_date</th>\n",
       "      <th></th>\n",
       "      <th></th>\n",
       "    </tr>\n",
       "  </thead>\n",
       "  <tbody>\n",
       "    <tr>\n",
       "      <th>1750</th>\n",
       "      <td>15</td>\n",
       "      <td>12</td>\n",
       "    </tr>\n",
       "    <tr>\n",
       "      <th>1760</th>\n",
       "      <td>15</td>\n",
       "      <td>72</td>\n",
       "    </tr>\n",
       "    <tr>\n",
       "      <th>1770</th>\n",
       "      <td>15</td>\n",
       "      <td>48</td>\n",
       "    </tr>\n",
       "    <tr>\n",
       "      <th>1780</th>\n",
       "      <td>17</td>\n",
       "      <td>132</td>\n",
       "    </tr>\n",
       "    <tr>\n",
       "      <th>1790</th>\n",
       "      <td>30</td>\n",
       "      <td>2742</td>\n",
       "    </tr>\n",
       "  </tbody>\n",
       "</table>\n",
       "</div>"
      ],
      "text/plain": [
       "            mean_age  size\n",
       "crime_date                \n",
       "1750              15    12\n",
       "1760              15    72\n",
       "1770              15    48\n",
       "1780              17   132\n",
       "1790              30  2742"
      ]
     },
     "execution_count": 41,
     "metadata": {},
     "output_type": "execute_result"
    }
   ],
   "source": [
    "pd.options.display.float_format = '{:.0f}'.format\n",
    "time_age=df_crime_age.groupby((df_crime_age.crime_date.dt.year//10)*10).agg(mean_age=('defendant_age','mean'),size=('trial_id','count'))\n",
    "time_age                                                                                         "
   ]
  },
  {
   "cell_type": "code",
   "execution_count": 42,
   "metadata": {},
   "outputs": [],
   "source": [
    "gender_age_crime=pd.crosstab((df_crime_age.crime_date.dt.year//10)*10,df_crime_age['defendant_gender'],values=df_crime_age.defendant_age,aggfunc='mean')\n",
    "gender_age_crime=time_age.merge(gender_age_crime,on=\"crime_date\")\n",
    "#this table shows the average year each decade and the average male/female age each decade"
   ]
  },
  {
   "cell_type": "markdown",
   "metadata": {},
   "source": [
    "We can see the increase in average age of the defendants through each decade. However, as the cell above has shown, in the total 3006 cases, majority of them are in the 1790s and 1780s. The distribution is extremely uneven. It means that the proceeding for 1790s (possibly from 1780s) trials started recording defendants ages more thoroughly."
   ]
  },
  {
   "cell_type": "markdown",
   "metadata": {},
   "source": [
    "#### (3) offence category, verdict and punishment"
   ]
  },
  {
   "cell_type": "markdown",
   "metadata": {},
   "source": [
    "From earlier we know that 83.6% of trial were charged with theft. Hence, if we only look at counts of offence versus punishment, it will be easy to get lost in the numbers. It will be easier to see a pattern if we normalize the count of each punishment_category to a percentage by each offence_category."
   ]
  },
  {
   "cell_type": "code",
   "execution_count": 43,
   "metadata": {},
   "outputs": [
    {
     "data": {
      "text/html": [
       "<div>\n",
       "<style scoped>\n",
       "    .dataframe tbody tr th:only-of-type {\n",
       "        vertical-align: middle;\n",
       "    }\n",
       "\n",
       "    .dataframe tbody tr th {\n",
       "        vertical-align: top;\n",
       "    }\n",
       "\n",
       "    .dataframe thead th {\n",
       "        text-align: right;\n",
       "    }\n",
       "</style>\n",
       "<table border=\"1\" class=\"dataframe\">\n",
       "  <thead>\n",
       "    <tr style=\"text-align: right;\">\n",
       "      <th>verdict_category</th>\n",
       "      <th>guilty</th>\n",
       "      <th>notGuilty</th>\n",
       "      <th>specialVerdict</th>\n",
       "      <th>miscVerdict</th>\n",
       "    </tr>\n",
       "    <tr>\n",
       "      <th>offence_category</th>\n",
       "      <th></th>\n",
       "      <th></th>\n",
       "      <th></th>\n",
       "      <th></th>\n",
       "    </tr>\n",
       "  </thead>\n",
       "  <tbody>\n",
       "    <tr>\n",
       "      <th>damage</th>\n",
       "      <td>26</td>\n",
       "      <td>70</td>\n",
       "      <td>2</td>\n",
       "      <td>2</td>\n",
       "    </tr>\n",
       "    <tr>\n",
       "      <th>sexual</th>\n",
       "      <td>34</td>\n",
       "      <td>66</td>\n",
       "      <td>0</td>\n",
       "      <td>0</td>\n",
       "    </tr>\n",
       "    <tr>\n",
       "      <th>breakingPeace</th>\n",
       "      <td>44</td>\n",
       "      <td>56</td>\n",
       "      <td>0</td>\n",
       "      <td>0</td>\n",
       "    </tr>\n",
       "    <tr>\n",
       "      <th>deception</th>\n",
       "      <td>46</td>\n",
       "      <td>53</td>\n",
       "      <td>1</td>\n",
       "      <td>0</td>\n",
       "    </tr>\n",
       "    <tr>\n",
       "      <th>kill</th>\n",
       "      <td>47</td>\n",
       "      <td>53</td>\n",
       "      <td>0</td>\n",
       "      <td>0</td>\n",
       "    </tr>\n",
       "    <tr>\n",
       "      <th>violentTheft</th>\n",
       "      <td>51</td>\n",
       "      <td>49</td>\n",
       "      <td>0</td>\n",
       "      <td>0</td>\n",
       "    </tr>\n",
       "    <tr>\n",
       "      <th>royalOffences</th>\n",
       "      <td>53</td>\n",
       "      <td>46</td>\n",
       "      <td>0</td>\n",
       "      <td>0</td>\n",
       "    </tr>\n",
       "    <tr>\n",
       "      <th>theft</th>\n",
       "      <td>62</td>\n",
       "      <td>38</td>\n",
       "      <td>0</td>\n",
       "      <td>0</td>\n",
       "    </tr>\n",
       "    <tr>\n",
       "      <th>miscellaneous</th>\n",
       "      <td>62</td>\n",
       "      <td>37</td>\n",
       "      <td>1</td>\n",
       "      <td>0</td>\n",
       "    </tr>\n",
       "  </tbody>\n",
       "</table>\n",
       "</div>"
      ],
      "text/plain": [
       "verdict_category  guilty  notGuilty  specialVerdict  miscVerdict\n",
       "offence_category                                                \n",
       "damage                26         70               2            2\n",
       "sexual                34         66               0            0\n",
       "breakingPeace         44         56               0            0\n",
       "deception             46         53               1            0\n",
       "kill                  47         53               0            0\n",
       "violentTheft          51         49               0            0\n",
       "royalOffences         53         46               0            0\n",
       "theft                 62         38               0            0\n",
       "miscellaneous         62         37               1            0"
      ]
     },
     "execution_count": 43,
     "metadata": {},
     "output_type": "execute_result"
    }
   ],
   "source": [
    "#We want to see the number of guilty vs not guilty outcomes for each offence committed\"\n",
    "#create a crosstab table to show offence_category vs. verdict_category and noralized each index\n",
    "#It means we can see the proporation of for people committed the same crime, what percetage was found guilty/not guilty\n",
    "offence_verdict=pd.crosstab(df_crime['offence_category'],df_crime['verdict_category'], normalize='index')\n",
    "\n",
    "#make the number into perentage\n",
    "offence_verdict= offence_verdict.sort_values(by='guilty')*100\n",
    "\n",
    "#Rearrange the columns to make sure guilty is next to not guilty. Easier to see\n",
    "cols = offence_verdict.columns.tolist()\n",
    "cols = ['guilty','notGuilty', 'specialVerdict', 'miscVerdict']\n",
    "offence_verdict = offence_verdict[cols]\n",
    "\n",
    "offence_verdict #print the table"
   ]
  },
  {
   "cell_type": "code",
   "execution_count": 44,
   "metadata": {},
   "outputs": [
    {
     "data": {
      "text/plain": [
       "<matplotlib.legend.Legend at 0x7fbe86a2a990>"
      ]
     },
     "execution_count": 44,
     "metadata": {},
     "output_type": "execute_result"
    },
    {
     "data": {
      "image/png": "[encoded data removed]",
      "text/plain": [
       "<Figure size 432x288 with 1 Axes>"
      ]
     },
     "metadata": {},
     "output_type": "display_data"
    }
   ],
   "source": [
    "#visualize the table above\n",
    "ax = offence_verdict.plot.barh(stacked=True)\n",
    "ax.invert_yaxis()\n",
    "ax.axvline(50, color='grey', linestyle='dashed', linewidth=1)\n",
    "ax.set_title('Percentage of verdict categories by crime categories')\n",
    "ax.set_xlabel('Percentage')\n",
    "ax.set_ylabel('Crime category')\n",
    "ax.legend(bbox_to_anchor=(1.0, 1.0))"
   ]
  },
  {
   "cell_type": "code",
   "execution_count": 45,
   "metadata": {},
   "outputs": [
    {
     "data": {
      "text/html": [
       "<div>\n",
       "<style scoped>\n",
       "    .dataframe tbody tr th:only-of-type {\n",
       "        vertical-align: middle;\n",
       "    }\n",
       "\n",
       "    .dataframe tbody tr th {\n",
       "        vertical-align: top;\n",
       "    }\n",
       "\n",
       "    .dataframe thead th {\n",
       "        text-align: right;\n",
       "    }\n",
       "</style>\n",
       "<table border=\"1\" class=\"dataframe\">\n",
       "  <thead>\n",
       "    <tr style=\"text-align: right;\">\n",
       "      <th>punishment_category</th>\n",
       "      <th>corporal</th>\n",
       "      <th>death</th>\n",
       "      <th>imprison</th>\n",
       "      <th>miscPunish</th>\n",
       "      <th>noPunish</th>\n",
       "      <th>transport</th>\n",
       "    </tr>\n",
       "    <tr>\n",
       "      <th>offence_category</th>\n",
       "      <th></th>\n",
       "      <th></th>\n",
       "      <th></th>\n",
       "      <th></th>\n",
       "      <th></th>\n",
       "      <th></th>\n",
       "    </tr>\n",
       "  </thead>\n",
       "  <tbody>\n",
       "    <tr>\n",
       "      <th>breakingPeace</th>\n",
       "      <td>0</td>\n",
       "      <td>78</td>\n",
       "      <td>8</td>\n",
       "      <td>10</td>\n",
       "      <td>3</td>\n",
       "      <td>1</td>\n",
       "    </tr>\n",
       "    <tr>\n",
       "      <th>damage</th>\n",
       "      <td>0</td>\n",
       "      <td>62</td>\n",
       "      <td>19</td>\n",
       "      <td>6</td>\n",
       "      <td>0</td>\n",
       "      <td>12</td>\n",
       "    </tr>\n",
       "    <tr>\n",
       "      <th>deception</th>\n",
       "      <td>2</td>\n",
       "      <td>54</td>\n",
       "      <td>14</td>\n",
       "      <td>3</td>\n",
       "      <td>5</td>\n",
       "      <td>21</td>\n",
       "    </tr>\n",
       "    <tr>\n",
       "      <th>kill</th>\n",
       "      <td>0</td>\n",
       "      <td>46</td>\n",
       "      <td>16</td>\n",
       "      <td>36</td>\n",
       "      <td>1</td>\n",
       "      <td>0</td>\n",
       "    </tr>\n",
       "    <tr>\n",
       "      <th>miscellaneous</th>\n",
       "      <td>2</td>\n",
       "      <td>63</td>\n",
       "      <td>10</td>\n",
       "      <td>8</td>\n",
       "      <td>4</td>\n",
       "      <td>13</td>\n",
       "    </tr>\n",
       "    <tr>\n",
       "      <th>royalOffences</th>\n",
       "      <td>0</td>\n",
       "      <td>28</td>\n",
       "      <td>34</td>\n",
       "      <td>32</td>\n",
       "      <td>4</td>\n",
       "      <td>1</td>\n",
       "    </tr>\n",
       "    <tr>\n",
       "      <th>sexual</th>\n",
       "      <td>1</td>\n",
       "      <td>31</td>\n",
       "      <td>24</td>\n",
       "      <td>33</td>\n",
       "      <td>3</td>\n",
       "      <td>7</td>\n",
       "    </tr>\n",
       "    <tr>\n",
       "      <th>theft</th>\n",
       "      <td>13</td>\n",
       "      <td>9</td>\n",
       "      <td>13</td>\n",
       "      <td>9</td>\n",
       "      <td>1</td>\n",
       "      <td>54</td>\n",
       "    </tr>\n",
       "    <tr>\n",
       "      <th>violentTheft</th>\n",
       "      <td>0</td>\n",
       "      <td>74</td>\n",
       "      <td>4</td>\n",
       "      <td>1</td>\n",
       "      <td>1</td>\n",
       "      <td>20</td>\n",
       "    </tr>\n",
       "  </tbody>\n",
       "</table>\n",
       "</div>"
      ],
      "text/plain": [
       "punishment_category  corporal  death  imprison  miscPunish  noPunish  \\\n",
       "offence_category                                                       \n",
       "breakingPeace               0     78         8          10         3   \n",
       "damage                      0     62        19           6         0   \n",
       "deception                   2     54        14           3         5   \n",
       "kill                        0     46        16          36         1   \n",
       "miscellaneous               2     63        10           8         4   \n",
       "royalOffences               0     28        34          32         4   \n",
       "sexual                      1     31        24          33         3   \n",
       "theft                      13      9        13           9         1   \n",
       "violentTheft                0     74         4           1         1   \n",
       "\n",
       "punishment_category  transport  \n",
       "offence_category                \n",
       "breakingPeace                1  \n",
       "damage                      12  \n",
       "deception                   21  \n",
       "kill                         0  \n",
       "miscellaneous               13  \n",
       "royalOffences                1  \n",
       "sexual                       7  \n",
       "theft                       54  \n",
       "violentTheft                20  "
      ]
     },
     "execution_count": 45,
     "metadata": {},
     "output_type": "execute_result"
    }
   ],
   "source": [
    "#We want to see the number of guilty people which received certain punishments based on the offence they committed\"\n",
    "#create a crosstab table to show offence_category vs. punishemnt_category and noralized each index\n",
    "offence_punishment=pd.crosstab(df_crime['offence_category'],df_crime['punishment_category'],normalize='index')\n",
    "#show as %\n",
    "offence_punishment=offence_punishment*100\n",
    "offence_punishment"
   ]
  },
  {
   "cell_type": "markdown",
   "metadata": {},
   "source": [
    "We can notice that though the conviction of theft charge is the highest (62%), only 9.2% charged with theft were sentenced to death and most were sentenced with transport (transport meant as punishment, criminals were transport to colonies in North America or Australia for indentured services). On the other hand, almost 80% of defendants charged with breaking peace received death sentence (Old Bailey, n.d.). "
   ]
  },
  {
   "cell_type": "markdown",
   "metadata": {},
   "source": [
    "#### When the defendants were in trials, did male have higher/same/lower chance to be found guilty than female? \n",
    "\n",
    "In the 18th century England justice system that is  solely run by white males, we originally hypothesize that women defendants were not favoured in the system. However, after we inspected the data, it shows a different story."
   ]
  },
  {
   "cell_type": "code",
   "execution_count": 46,
   "metadata": {},
   "outputs": [
    {
     "data": {
      "text/html": [
       "<div>\n",
       "<style scoped>\n",
       "    .dataframe tbody tr th:only-of-type {\n",
       "        vertical-align: middle;\n",
       "    }\n",
       "\n",
       "    .dataframe tbody tr th {\n",
       "        vertical-align: top;\n",
       "    }\n",
       "\n",
       "    .dataframe thead th {\n",
       "        text-align: right;\n",
       "    }\n",
       "</style>\n",
       "<table border=\"1\" class=\"dataframe\">\n",
       "  <thead>\n",
       "    <tr style=\"text-align: right;\">\n",
       "      <th>verdict_category</th>\n",
       "      <th>guilty</th>\n",
       "      <th>miscVerdict</th>\n",
       "      <th>notGuilty</th>\n",
       "      <th>specialVerdict</th>\n",
       "    </tr>\n",
       "    <tr>\n",
       "      <th>defendant_gender</th>\n",
       "      <th></th>\n",
       "      <th></th>\n",
       "      <th></th>\n",
       "      <th></th>\n",
       "    </tr>\n",
       "  </thead>\n",
       "  <tbody>\n",
       "    <tr>\n",
       "      <th>female</th>\n",
       "      <td>55.10</td>\n",
       "      <td>0.00</td>\n",
       "      <td>44.86</td>\n",
       "      <td>0.04</td>\n",
       "    </tr>\n",
       "    <tr>\n",
       "      <th>male</th>\n",
       "      <td>61.93</td>\n",
       "      <td>0.01</td>\n",
       "      <td>37.94</td>\n",
       "      <td>0.13</td>\n",
       "    </tr>\n",
       "  </tbody>\n",
       "</table>\n",
       "</div>"
      ],
      "text/plain": [
       "verdict_category  guilty  miscVerdict  notGuilty  specialVerdict\n",
       "defendant_gender                                                \n",
       "female             55.10         0.00      44.86            0.04\n",
       "male               61.93         0.01      37.94            0.13"
      ]
     },
     "execution_count": 46,
     "metadata": {},
     "output_type": "execute_result"
    }
   ],
   "source": [
    "pd.options.display.float_format = '{:.2f}'.format\n",
    "verdict_gender=pd.crosstab(df_crime['defendant_gender'],df_crime['verdict_category'], normalize='index')\n",
    "verdict_gender*100"
   ]
  },
  {
   "cell_type": "markdown",
   "metadata": {},
   "source": [
    "#### Charged with the same crime, is there any difference of punishment that male and female received?\n",
    "Since there are multiple offence charges, we pick theft as the category to look at."
   ]
  },
  {
   "cell_type": "code",
   "execution_count": 47,
   "metadata": {},
   "outputs": [
    {
     "data": {
      "text/html": [
       "<div>\n",
       "<style scoped>\n",
       "    .dataframe tbody tr th:only-of-type {\n",
       "        vertical-align: middle;\n",
       "    }\n",
       "\n",
       "    .dataframe tbody tr th {\n",
       "        vertical-align: top;\n",
       "    }\n",
       "\n",
       "    .dataframe thead th {\n",
       "        text-align: right;\n",
       "    }\n",
       "</style>\n",
       "<table border=\"1\" class=\"dataframe\">\n",
       "  <thead>\n",
       "    <tr style=\"text-align: right;\">\n",
       "      <th>punishment_category</th>\n",
       "      <th>corporal</th>\n",
       "      <th>death</th>\n",
       "      <th>imprison</th>\n",
       "      <th>miscPunish</th>\n",
       "      <th>noPunish</th>\n",
       "      <th>transport</th>\n",
       "    </tr>\n",
       "    <tr>\n",
       "      <th>defendant_gender</th>\n",
       "      <th></th>\n",
       "      <th></th>\n",
       "      <th></th>\n",
       "      <th></th>\n",
       "      <th></th>\n",
       "      <th></th>\n",
       "    </tr>\n",
       "  </thead>\n",
       "  <tbody>\n",
       "    <tr>\n",
       "      <th>female</th>\n",
       "      <td>14.9</td>\n",
       "      <td>3.8</td>\n",
       "      <td>19.3</td>\n",
       "      <td>12.3</td>\n",
       "      <td>0.4</td>\n",
       "      <td>49.4</td>\n",
       "    </tr>\n",
       "    <tr>\n",
       "      <th>male</th>\n",
       "      <td>12.6</td>\n",
       "      <td>10.5</td>\n",
       "      <td>11.5</td>\n",
       "      <td>7.5</td>\n",
       "      <td>1.7</td>\n",
       "      <td>56.1</td>\n",
       "    </tr>\n",
       "  </tbody>\n",
       "</table>\n",
       "</div>"
      ],
      "text/plain": [
       "punishment_category  corporal  death  imprison  miscPunish  noPunish  \\\n",
       "defendant_gender                                                       \n",
       "female                   14.9    3.8      19.3        12.3       0.4   \n",
       "male                     12.6   10.5      11.5         7.5       1.7   \n",
       "\n",
       "punishment_category  transport  \n",
       "defendant_gender                \n",
       "female                    49.4  \n",
       "male                      56.1  "
      ]
     },
     "execution_count": 47,
     "metadata": {},
     "output_type": "execute_result"
    }
   ],
   "source": [
    "pd.options.display.float_format = '{:.1f}'.format\n",
    "#create a separate dataframe to look at theft charges and the punishment \n",
    "df_crime_theft_punishment=df_crime.loc[(df_crime['verdict_category'] == \"guilty\" ) & (df_crime['offence_category'] == \"theft\" )]\n",
    "#crosstab the dataframe and normalized the index. \n",
    "#It shows how proportion of men/women defendent under theft charge were sentence to various categories. \n",
    "theft_punishment_gender=pd.crosstab(df_crime_theft_punishment['defendant_gender'],df_crime_theft_punishment['punishment_category'], normalize='index')\n",
    "#present in percentage\n",
    "theft_punishment_gender=theft_punishment_gender*100\n",
    "theft_punishment_gender"
   ]
  },
  {
   "cell_type": "code",
   "execution_count": 48,
   "metadata": {},
   "outputs": [
    {
     "data": {
      "text/plain": [
       "<matplotlib.legend.Legend at 0x7fbe86eae9d0>"
      ]
     },
     "execution_count": 48,
     "metadata": {},
     "output_type": "execute_result"
    },
    {
     "data": {
      "image/png": "[encoded data removed]",
      "text/plain": [
       "<Figure size 432x288 with 1 Axes>"
      ]
     },
     "metadata": {},
     "output_type": "display_data"
    }
   ],
   "source": [
    "#visualize the table above\n",
    "ax = theft_punishment_gender.plot.barh(stacked=True)\n",
    "ax.invert_yaxis()\n",
    "ax.axvline(50, color='grey', linestyle='dashed', linewidth=1)\n",
    "ax.set_title('Percentage of punishment by gender')\n",
    "ax.set_xlabel('Percentage')\n",
    "ax.set_ylabel('defendent gender')\n",
    "ax.legend(bbox_to_anchor=(1.0, 1.0))"
   ]
  },
  {
   "cell_type": "markdown",
   "metadata": {},
   "source": [
    "We can see from the information  displayed above. Female defendants had about 50-50 chances of being found guilty but male defendants had over 60% chances. Also not good news for male defendants, under the same charge of theft, they have higher chances to receive the death sentence. \n",
    "\n",
    "These observations from this time period show that male and female defendants were treated differently in the court but not in the way we expected. The reasons could be situated in the social contexts (Beattie, 1975; Emsley, 2013). Based on their prescribed gender role in the 18th century, men were seen as being more aggressive and violent. On the other hand, crimes conducted by females, were generally perceived as less threatening than the crimes committed by men (Walker, 2003). The crimes committed by women were seen as unusual incidents rather than usual pattern. At this time punishments were used for deterring people from committing crimes. Heavy sentences were not served the purposes. Hence, juries were more reluctant to convict women/or heavy sentence. In addition, pregnant women were usually reprieved from death penalty (Old Bailey, n.d.), which could be one reason why there are smaller proportion of female sentenced to death.\n",
    "\n",
    "It is also noticed by the scholars who studied the Proceedings of Old Bailey that only 21% of defendants in the entire database are female. Interesting, between 1690 and 1740, 40% of the defendants are female. The percentages dropped after 1740. This could explain the 2:1 ratio in this project's dataset. There have been different theories on why and how it happened. However, though it is the data and trend we observed, it is still hard to draw wider conclusion since we only look at the trial records from ONE court (King, 2006)."
   ]
  },
  {
   "cell_type": "markdown",
   "metadata": {},
   "source": [
    "### Part 3: Text Analysis\n",
    "Big parts of the trial records are textual, i.e. the statements made in the courts, which is what we will look at in this part. We will first retrieve the texts from xml and then clean the escape characters like \"-,\\n\". After the cleaning, we will use nltk library to tokenize and lemmatize the words to perform frequency analysis and TF-IDF (term-frequency–inverse document frequency). Details will be discussed below. The last part will be sentiment analysis.\n",
    "\n",
    "The full dataset we are looking at here is the trials that were related to kill out of 28120 cases."
   ]
  },
  {
   "cell_type": "code",
   "execution_count": 49,
   "metadata": {},
   "outputs": [],
   "source": [
    "#write a function to get the texts from the xml and clean the escape characters with regex library. \n",
    "\n",
    "def text_process(root):\n",
    "    \n",
    "    #the function will run through the xml and get the text. \n",
    "    #If the offence category is not kill, the text will return none. \n",
    "    #We can drop those later rows \n",
    "\n",
    "    texts=None     #set the texts equal to none \n",
    "    \n",
    "    #Get the case id \n",
    "    #Later on we can merge with the df_crime dataframe based on id for extra information\n",
    "    for crime_case_text in root.iter('div1'):\n",
    "        if crime_case_text.get('type')==\"trialAccount\":\n",
    "            trial_id_text=crime_case_text.get('id')\n",
    "            \n",
    "    #iter through interp to match the offence category that is equal to kill\n",
    "    for detail in root.iter('interp'):\n",
    "        criteria=detail.get('type')\n",
    "        if criteria=='offenceCategory':\n",
    "            offence_category = detail.get('value')\n",
    "            if offence_category == 'kill':\n",
    "                #get the texts from xml\n",
    "                texts=ET.tostring(root, encoding='unicode', method='text')\n",
    "                #clean the texts\n",
    "                dashes  = re.compile(\"-\")\n",
    "                quotes = re.compile(\"''\")\n",
    "                punct = re.compile(\"\"\"[?!.,;:\\]\\[(){}`'\"]\"\"\")\n",
    "                extranewlines = re.compile('\\n\\s*\\n')\n",
    "                extraspaces = re.compile('\\s\\s+')\n",
    "                texts = dashes.sub('',texts)\n",
    "                texts = quotes.sub('',texts)\n",
    "                texts = punct.sub(' ',texts)\n",
    "                texts = extranewlines.sub('\\n',texts)\n",
    "                texts = extraspaces.sub(' ',texts)\n",
    "                break \n",
    "                \n",
    "    return trial_id_text, texts"
   ]
  },
  {
   "cell_type": "code",
   "execution_count": 50,
   "metadata": {},
   "outputs": [],
   "source": [
    "import re\n",
    "import os\n",
    "\n",
    "path = \"data/\"\n",
    "\n",
    "crime_text=[]\n",
    "\n",
    "for filename in os.listdir(path):\n",
    "    # Only get xml files\n",
    "    if not filename.endswith('.xml'): continue\n",
    "    fullname = os.path.join(path, filename)\n",
    "    # This joins the path for each file it files so that python knows the full path / filename to trigger parser\n",
    "    try:\n",
    "        tree = ET.parse(fullname) #parse through xml files\n",
    "        root = tree.getroot() #get the root element\n",
    "        trial_id_text, texts= text_process(root) #apply the function to retrieve texts and trial_id in the xml\n",
    "        crime_text.append([trial_id_text, texts])\n",
    "    except:\n",
    "        print (\"Failed \"+filename)\n"
   ]
  },
  {
   "cell_type": "code",
   "execution_count": 51,
   "metadata": {},
   "outputs": [
    {
     "data": {
      "text/html": [
       "<div>\n",
       "<style scoped>\n",
       "    .dataframe tbody tr th:only-of-type {\n",
       "        vertical-align: middle;\n",
       "    }\n",
       "\n",
       "    .dataframe tbody tr th {\n",
       "        vertical-align: top;\n",
       "    }\n",
       "\n",
       "    .dataframe thead th {\n",
       "        text-align: right;\n",
       "    }\n",
       "</style>\n",
       "<table border=\"1\" class=\"dataframe\">\n",
       "  <thead>\n",
       "    <tr style=\"text-align: right;\">\n",
       "      <th></th>\n",
       "      <th>trial_id</th>\n",
       "      <th>texts</th>\n",
       "    </tr>\n",
       "  </thead>\n",
       "  <tbody>\n",
       "    <tr>\n",
       "      <th>0</th>\n",
       "      <td>t17530607-8</td>\n",
       "      <td>None</td>\n",
       "    </tr>\n",
       "    <tr>\n",
       "      <th>1</th>\n",
       "      <td>t17530607-33</td>\n",
       "      <td>None</td>\n",
       "    </tr>\n",
       "    <tr>\n",
       "      <th>2</th>\n",
       "      <td>t17530607-27</td>\n",
       "      <td>None</td>\n",
       "    </tr>\n",
       "    <tr>\n",
       "      <th>3</th>\n",
       "      <td>t17530607-26</td>\n",
       "      <td>None</td>\n",
       "    </tr>\n",
       "    <tr>\n",
       "      <th>4</th>\n",
       "      <td>t17530607-32</td>\n",
       "      <td>None</td>\n",
       "    </tr>\n",
       "    <tr>\n",
       "      <th>...</th>\n",
       "      <td>...</td>\n",
       "      <td>...</td>\n",
       "    </tr>\n",
       "    <tr>\n",
       "      <th>88</th>\n",
       "      <td>t17530718-43</td>\n",
       "      <td>None</td>\n",
       "    </tr>\n",
       "    <tr>\n",
       "      <th>89</th>\n",
       "      <td>t17530718-42</td>\n",
       "      <td>None</td>\n",
       "    </tr>\n",
       "    <tr>\n",
       "      <th>90</th>\n",
       "      <td>t17530607-16</td>\n",
       "      <td>None</td>\n",
       "    </tr>\n",
       "    <tr>\n",
       "      <th>91</th>\n",
       "      <td>t17530718-7</td>\n",
       "      <td>None</td>\n",
       "    </tr>\n",
       "    <tr>\n",
       "      <th>92</th>\n",
       "      <td>t17530607-5</td>\n",
       "      <td>None</td>\n",
       "    </tr>\n",
       "  </tbody>\n",
       "</table>\n",
       "<p>93 rows × 2 columns</p>\n",
       "</div>"
      ],
      "text/plain": [
       "        trial_id texts\n",
       "0    t17530607-8  None\n",
       "1   t17530607-33  None\n",
       "2   t17530607-27  None\n",
       "3   t17530607-26  None\n",
       "4   t17530607-32  None\n",
       "..           ...   ...\n",
       "88  t17530718-43  None\n",
       "89  t17530718-42  None\n",
       "90  t17530607-16  None\n",
       "91   t17530718-7  None\n",
       "92   t17530607-5  None\n",
       "\n",
       "[93 rows x 2 columns]"
      ]
     },
     "execution_count": 51,
     "metadata": {},
     "output_type": "execute_result"
    }
   ],
   "source": [
    "#create a dataframe with case id and the texts\n",
    "df_crime_text = pd.DataFrame(crime_text, columns=['trial_id','texts'])\n",
    "df_crime_text"
   ]
  },
  {
   "cell_type": "code",
   "execution_count": 52,
   "metadata": {},
   "outputs": [
    {
     "data": {
      "text/html": [
       "<div>\n",
       "<style scoped>\n",
       "    .dataframe tbody tr th:only-of-type {\n",
       "        vertical-align: middle;\n",
       "    }\n",
       "\n",
       "    .dataframe tbody tr th {\n",
       "        vertical-align: top;\n",
       "    }\n",
       "\n",
       "    .dataframe thead th {\n",
       "        text-align: right;\n",
       "    }\n",
       "</style>\n",
       "<table border=\"1\" class=\"dataframe\">\n",
       "  <thead>\n",
       "    <tr style=\"text-align: right;\">\n",
       "      <th></th>\n",
       "      <th>trial_id</th>\n",
       "      <th>texts</th>\n",
       "    </tr>\n",
       "  </thead>\n",
       "  <tbody>\n",
       "    <tr>\n",
       "      <th>43</th>\n",
       "      <td>t17530718-30</td>\n",
       "      <td>345 M William Peears otherwise Pearse was ind...</td>\n",
       "    </tr>\n",
       "    <tr>\n",
       "      <th>46</th>\n",
       "      <td>t17530718-33</td>\n",
       "      <td>348 349 M John Stockdale and Christopher John...</td>\n",
       "    </tr>\n",
       "  </tbody>\n",
       "</table>\n",
       "</div>"
      ],
      "text/plain": [
       "        trial_id                                              texts\n",
       "43  t17530718-30   345 M William Peears otherwise Pearse was ind...\n",
       "46  t17530718-33   348 349 M John Stockdale and Christopher John..."
      ]
     },
     "execution_count": 52,
     "metadata": {},
     "output_type": "execute_result"
    }
   ],
   "source": [
    "#drop all the null values in the dataframe \n",
    "#Afer parsing through the text_process function, \n",
    "#the null values in the dataframe are those cases that are not kill charge\n",
    "df_crime_text_final=df_crime_text.dropna()\n",
    "df_crime_text_final"
   ]
  },
  {
   "cell_type": "markdown",
   "metadata": {},
   "source": [
    "The cells above show how we retrieve the texts from xml and clean the texts. However, since the working samples don't cover 28000 xml, in the data folder, \"df_crime_text_original.csv\" includes the texts and trial id of the killing trial records from the 28000 xmls.  \"df_crime_text_original.csv\" will be the working document from now on. "
   ]
  },
  {
   "cell_type": "code",
   "execution_count": 53,
   "metadata": {},
   "outputs": [],
   "source": [
    "#read the complete csv file\n",
    "df_crime_text= pd.read_csv('data/df_crime_text_original.csv', index_col=0)"
   ]
  },
  {
   "cell_type": "code",
   "execution_count": 54,
   "metadata": {},
   "outputs": [
    {
     "data": {
      "text/html": [
       "<div>\n",
       "<style scoped>\n",
       "    .dataframe tbody tr th:only-of-type {\n",
       "        vertical-align: middle;\n",
       "    }\n",
       "\n",
       "    .dataframe tbody tr th {\n",
       "        vertical-align: top;\n",
       "    }\n",
       "\n",
       "    .dataframe thead th {\n",
       "        text-align: right;\n",
       "    }\n",
       "</style>\n",
       "<table border=\"1\" class=\"dataframe\">\n",
       "  <thead>\n",
       "    <tr style=\"text-align: right;\">\n",
       "      <th></th>\n",
       "      <th>trial_id</th>\n",
       "      <th>texts</th>\n",
       "      <th>defendant_gender</th>\n",
       "      <th>crime_date</th>\n",
       "      <th>verdict_category</th>\n",
       "    </tr>\n",
       "  </thead>\n",
       "  <tbody>\n",
       "    <tr>\n",
       "      <th>0</th>\n",
       "      <td>t17790915-57</td>\n",
       "      <td>440 GEORGE LISTER was indicted for the Wilful...</td>\n",
       "      <td>male</td>\n",
       "      <td>1779-09-15</td>\n",
       "      <td>notGuilty</td>\n",
       "    </tr>\n",
       "    <tr>\n",
       "      <th>1</th>\n",
       "      <td>t17810222-9</td>\n",
       "      <td>131 PATRICK HOY was indicted for the wilful m...</td>\n",
       "      <td>male</td>\n",
       "      <td>1781-02-22</td>\n",
       "      <td>notGuilty</td>\n",
       "    </tr>\n",
       "    <tr>\n",
       "      <th>2</th>\n",
       "      <td>t17611021-34</td>\n",
       "      <td>318 M Richard Parrott was indicted for the wi...</td>\n",
       "      <td>male</td>\n",
       "      <td>1761-10-21</td>\n",
       "      <td>guilty</td>\n",
       "    </tr>\n",
       "    <tr>\n",
       "      <th>3</th>\n",
       "      <td>t17801206-54</td>\n",
       "      <td>64 THOMAS DILLEY was indicted for the wilful ...</td>\n",
       "      <td>male</td>\n",
       "      <td>1780-12-06</td>\n",
       "      <td>notGuilty</td>\n",
       "    </tr>\n",
       "    <tr>\n",
       "      <th>4</th>\n",
       "      <td>t17540717-45</td>\n",
       "      <td>393 L Bernard Smith was indicted for the wilf...</td>\n",
       "      <td>male</td>\n",
       "      <td>1754-07-17</td>\n",
       "      <td>guilty</td>\n",
       "    </tr>\n",
       "    <tr>\n",
       "      <th>...</th>\n",
       "      <td>...</td>\n",
       "      <td>...</td>\n",
       "      <td>...</td>\n",
       "      <td>...</td>\n",
       "      <td>...</td>\n",
       "    </tr>\n",
       "    <tr>\n",
       "      <th>481</th>\n",
       "      <td>t17940917-47</td>\n",
       "      <td>506 ROBERT ANDREWS was indicted for that he o...</td>\n",
       "      <td>male</td>\n",
       "      <td>1794-09-17</td>\n",
       "      <td>guilty</td>\n",
       "    </tr>\n",
       "    <tr>\n",
       "      <th>482</th>\n",
       "      <td>t17871024-19</td>\n",
       "      <td>830 WILLIAM WHITEWAY was indicted for that he...</td>\n",
       "      <td>male</td>\n",
       "      <td>1787-10-24</td>\n",
       "      <td>notGuilty</td>\n",
       "    </tr>\n",
       "    <tr>\n",
       "      <th>483</th>\n",
       "      <td>t17760417-58</td>\n",
       "      <td>366 MARY OWEN late wife of Henry Owen was ind...</td>\n",
       "      <td>female</td>\n",
       "      <td>1776-04-17</td>\n",
       "      <td>notGuilty</td>\n",
       "    </tr>\n",
       "    <tr>\n",
       "      <th>484</th>\n",
       "      <td>t17501205-60</td>\n",
       "      <td>75 M Henry Stroud was indicted for the murder...</td>\n",
       "      <td>male</td>\n",
       "      <td>1750-12-05</td>\n",
       "      <td>guilty</td>\n",
       "    </tr>\n",
       "    <tr>\n",
       "      <th>485</th>\n",
       "      <td>t17990911-25</td>\n",
       "      <td>407 ALEXANDER TISDALL was indicted for the wi...</td>\n",
       "      <td>male</td>\n",
       "      <td>1799-09-11</td>\n",
       "      <td>guilty</td>\n",
       "    </tr>\n",
       "  </tbody>\n",
       "</table>\n",
       "<p>486 rows × 5 columns</p>\n",
       "</div>"
      ],
      "text/plain": [
       "         trial_id                                              texts  \\\n",
       "0    t17790915-57   440 GEORGE LISTER was indicted for the Wilful...   \n",
       "1     t17810222-9   131 PATRICK HOY was indicted for the wilful m...   \n",
       "2    t17611021-34   318 M Richard Parrott was indicted for the wi...   \n",
       "3    t17801206-54   64 THOMAS DILLEY was indicted for the wilful ...   \n",
       "4    t17540717-45   393 L Bernard Smith was indicted for the wilf...   \n",
       "..            ...                                                ...   \n",
       "481  t17940917-47   506 ROBERT ANDREWS was indicted for that he o...   \n",
       "482  t17871024-19   830 WILLIAM WHITEWAY was indicted for that he...   \n",
       "483  t17760417-58   366 MARY OWEN late wife of Henry Owen was ind...   \n",
       "484  t17501205-60   75 M Henry Stroud was indicted for the murder...   \n",
       "485  t17990911-25   407 ALEXANDER TISDALL was indicted for the wi...   \n",
       "\n",
       "    defendant_gender crime_date verdict_category  \n",
       "0               male 1779-09-15        notGuilty  \n",
       "1               male 1781-02-22        notGuilty  \n",
       "2               male 1761-10-21           guilty  \n",
       "3               male 1780-12-06        notGuilty  \n",
       "4               male 1754-07-17           guilty  \n",
       "..               ...        ...              ...  \n",
       "481             male 1794-09-17           guilty  \n",
       "482             male 1787-10-24        notGuilty  \n",
       "483           female 1776-04-17        notGuilty  \n",
       "484             male 1750-12-05           guilty  \n",
       "485             male 1799-09-11           guilty  \n",
       "\n",
       "[486 rows x 5 columns]"
      ]
     },
     "execution_count": 54,
     "metadata": {},
     "output_type": "execute_result"
    }
   ],
   "source": [
    "#merge the text dataframe with df_crime 'crime_date' and 'defendant_gender' columns\n",
    "df_crime_text_gender=df_crime_text.merge(df_crime[['defendant_gender',\"crime_date\",\"verdict_category\",\"trial_id\"]],on='trial_id')\n",
    "df_crime_text_gender"
   ]
  },
  {
   "cell_type": "code",
   "execution_count": 55,
   "metadata": {},
   "outputs": [],
   "source": [
    "import nltk #for tokenize and process the texts\n",
    "from nltk.corpus import stopwords\n",
    "from nltk.probability import FreqDist\n",
    "from nltk.stem.snowball import SnowballStemmer\n",
    "from nltk.tokenize import word_tokenize\n",
    "from nltk.stem import WordNetLemmatizer \n",
    "from collections import Counter"
   ]
  },
  {
   "cell_type": "code",
   "execution_count": 56,
   "metadata": {},
   "outputs": [
    {
     "name": "stdout",
     "output_type": "stream",
     "text": [
      "['i', 'me', 'my', 'myself', 'we', 'our', 'ours', 'ourselves', 'you', \"you're\", \"you've\", \"you'll\", \"you'd\", 'your', 'yours', 'yourself', 'yourselves', 'he', 'him', 'his', 'himself', 'she', \"she's\", 'her', 'hers', 'herself', 'it', \"it's\", 'its', 'itself', 'they', 'them', 'their', 'theirs', 'themselves', 'what', 'which', 'who', 'whom', 'this', 'that', \"that'll\", 'these', 'those', 'am', 'is', 'are', 'was', 'were', 'be', 'been', 'being', 'have', 'has', 'had', 'having', 'do', 'does', 'did', 'doing', 'a', 'an', 'the', 'and', 'but', 'if', 'or', 'because', 'as', 'until', 'while', 'of', 'at', 'by', 'for', 'with', 'about', 'against', 'between', 'into', 'through', 'during', 'before', 'after', 'above', 'below', 'to', 'from', 'up', 'down', 'in', 'out', 'on', 'off', 'over', 'under', 'again', 'further', 'then', 'once', 'here', 'there', 'when', 'where', 'why', 'how', 'all', 'any', 'both', 'each', 'few', 'more', 'most', 'other', 'some', 'such', 'no', 'nor', 'not', 'only', 'own', 'same', 'so', 'than', 'too', 'very', 's', 't', 'can', 'will', 'just', 'don', \"don't\", 'should', \"should've\", 'now', 'd', 'll', 'm', 'o', 're', 've', 'y', 'ain', 'aren', \"aren't\", 'couldn', \"couldn't\", 'didn', \"didn't\", 'doesn', \"doesn't\", 'hadn', \"hadn't\", 'hasn', \"hasn't\", 'haven', \"haven't\", 'isn', \"isn't\", 'ma', 'mightn', \"mightn't\", 'mustn', \"mustn't\", 'needn', \"needn't\", 'shan', \"shan't\", 'shouldn', \"shouldn't\", 'wasn', \"wasn't\", 'weren', \"weren't\", 'won', \"won't\", 'wouldn', \"wouldn't\"]\n"
     ]
    },
    {
     "name": "stderr",
     "output_type": "stream",
     "text": [
      "[nltk_data] Downloading package punkt to /Users/Yi-Ting/nltk_data...\n",
      "[nltk_data]   Package punkt is already up-to-date!\n",
      "[nltk_data] Downloading package stopwords to /Users/Yi-\n",
      "[nltk_data]     Ting/nltk_data...\n",
      "[nltk_data]   Package stopwords is already up-to-date!\n",
      "[nltk_data] Downloading package wordnet to /Users/Yi-Ting/nltk_data...\n",
      "[nltk_data]   Package wordnet is already up-to-date!\n"
     ]
    }
   ],
   "source": [
    "#stop words: the most common words in language\n",
    "#usually filter out before processing texts\n",
    "nltk.download('punkt')\n",
    "nltk.download('stopwords')\n",
    "nltk.download('wordnet')\n",
    "stop_words = stopwords.words('english')\n",
    "print (stop_words)\n",
    "#We add \"q\" to the stopwrods list. \n",
    "stop_words.append('q')#this is for the \"Q:\", occured a lot in the trial data as questions"
   ]
  },
  {
   "cell_type": "code",
   "execution_count": 57,
   "metadata": {},
   "outputs": [],
   "source": [
    "#create a funtion to tokenize the words, remove stopwords and lemmatize the words\n",
    "def text_analysis (texts):\n",
    "    texts=texts.lower() #make the texts lower case\n",
    "    tokens=word_tokenize(texts) #tokenize the words\n",
    "    tokens=[token for token in tokens if token not in stop_words] #remove stopwords\n",
    "    lemma=nltk.wordnet.WordNetLemmatizer() #create a lemmatizer\n",
    "    texts=[lemma.lemmatize (token) for token in tokens if token not in stop_words] #lemmatization words\n",
    "    return texts"
   ]
  },
  {
   "cell_type": "markdown",
   "metadata": {},
   "source": [
    "In the natural language process, we want the program to be able to tell that \"dance\" and \"danced\" are actually the same words but in different tenses. This means we need to get the core root of this vocabulary. There are two ways of doing it: stemming and lemmatization. In this project we decide to use lemmatization instead of stemming.\n",
    "\n",
    "Stemming means reducing words to their stems, like the stem of \"cooking\" is \"cook\". However it is also easy to over-stem, especially for nouns. Snowballstemmer in nltk is commonly used for this task. We originally use snowballstemmer but as an example the word \"uncles\" became \"uncl\", \"properties\" became \"properti\"(Heidenreich, 2018). The words just do not make sense and are not really useful. Hence, we start looking at lemmatization. Lemmatization is more complex than rule-based stemming. It takes words to their dictionary form. So when we pass through \"uncles\", it returns \"uncle\". Examples are in the following cell."
   ]
  },
  {
   "cell_type": "code",
   "execution_count": 58,
   "metadata": {},
   "outputs": [
    {
     "name": "stdout",
     "output_type": "stream",
     "text": [
      "uncl\n",
      "uncle\n"
     ]
    }
   ],
   "source": [
    "stemmer = SnowballStemmer(\"english\")\n",
    "print(stemmer.stem(\"uncles\"))\n",
    "lemma = nltk.wordnet.WordNetLemmatizer()\n",
    "print(lemma.lemmatize(\"uncles\"))"
   ]
  },
  {
   "cell_type": "code",
   "execution_count": 59,
   "metadata": {},
   "outputs": [
    {
     "name": "stdout",
     "output_type": "stream",
     "text": [
      "<class 'pandas.core.frame.DataFrame'>\n",
      "Int64Index: 486 entries, 0 to 485\n",
      "Data columns (total 6 columns):\n",
      " #   Column            Non-Null Count  Dtype         \n",
      "---  ------            --------------  -----         \n",
      " 0   trial_id          486 non-null    object        \n",
      " 1   texts             486 non-null    object        \n",
      " 2   defendant_gender  486 non-null    category      \n",
      " 3   crime_date        486 non-null    datetime64[ns]\n",
      " 4   verdict_category  486 non-null    category      \n",
      " 5   nltk_texts        486 non-null    object        \n",
      "dtypes: category(2), datetime64[ns](1), object(3)\n",
      "memory usage: 20.3+ KB\n"
     ]
    }
   ],
   "source": [
    "#apply the function to process the texts in a separate column\n",
    "#keep the original texts for sentiment analysis\n",
    "df_crime_text_gender['nltk_texts'] = df_crime_text_gender['texts'].apply(lambda x: text_analysis(x))\n",
    "df_crime_text_gender.info()"
   ]
  },
  {
   "cell_type": "code",
   "execution_count": 60,
   "metadata": {},
   "outputs": [],
   "source": [
    "#change the datatype\n",
    "df_crime_text_gender['texts']=df_crime_text_gender['texts'].astype('str')"
   ]
  },
  {
   "cell_type": "code",
   "execution_count": 61,
   "metadata": {},
   "outputs": [
    {
     "data": {
      "text/plain": [
       "0      11953\n",
       "1      13606\n",
       "2      21161\n",
       "3       1526\n",
       "4       7438\n",
       "       ...  \n",
       "481    14228\n",
       "482    22670\n",
       "483     8625\n",
       "484     6403\n",
       "485    16575\n",
       "Name: length, Length: 486, dtype: int64"
      ]
     },
     "execution_count": 61,
     "metadata": {},
     "output_type": "execute_result"
    }
   ],
   "source": [
    "#calculate the length of each trial records\n",
    "df_crime_text_gender['length']=df_crime_text_gender['texts'].apply(lambda texts: len(texts))\n",
    "df_crime_text_gender['length']"
   ]
  },
  {
   "cell_type": "code",
   "execution_count": 62,
   "metadata": {},
   "outputs": [
    {
     "data": {
      "text/html": [
       "<div>\n",
       "<style scoped>\n",
       "    .dataframe tbody tr th:only-of-type {\n",
       "        vertical-align: middle;\n",
       "    }\n",
       "\n",
       "    .dataframe tbody tr th {\n",
       "        vertical-align: top;\n",
       "    }\n",
       "\n",
       "    .dataframe thead th {\n",
       "        text-align: right;\n",
       "    }\n",
       "</style>\n",
       "<table border=\"1\" class=\"dataframe\">\n",
       "  <thead>\n",
       "    <tr style=\"text-align: right;\">\n",
       "      <th></th>\n",
       "      <th>length</th>\n",
       "    </tr>\n",
       "    <tr>\n",
       "      <th>defendant_gender</th>\n",
       "      <th></th>\n",
       "    </tr>\n",
       "  </thead>\n",
       "  <tbody>\n",
       "    <tr>\n",
       "      <th>female</th>\n",
       "      <td>14168</td>\n",
       "    </tr>\n",
       "    <tr>\n",
       "      <th>male</th>\n",
       "      <td>16434</td>\n",
       "    </tr>\n",
       "  </tbody>\n",
       "</table>\n",
       "</div>"
      ],
      "text/plain": [
       "                  length\n",
       "defendant_gender        \n",
       "female             14168\n",
       "male               16434"
      ]
     },
     "execution_count": 62,
     "metadata": {},
     "output_type": "execute_result"
    }
   ],
   "source": [
    "pd.options.display.float_format = '{:.0f}'.format\n",
    "#calculate the average lengths of trials between female and male defendents\n",
    "df_crime_text_gender.groupby('defendant_gender').mean('length')"
   ]
  },
  {
   "cell_type": "code",
   "execution_count": 63,
   "metadata": {},
   "outputs": [
    {
     "data": {
      "text/html": [
       "<div>\n",
       "<style scoped>\n",
       "    .dataframe tbody tr th:only-of-type {\n",
       "        vertical-align: middle;\n",
       "    }\n",
       "\n",
       "    .dataframe tbody tr th {\n",
       "        vertical-align: top;\n",
       "    }\n",
       "\n",
       "    .dataframe thead th {\n",
       "        text-align: right;\n",
       "    }\n",
       "</style>\n",
       "<table border=\"1\" class=\"dataframe\">\n",
       "  <thead>\n",
       "    <tr style=\"text-align: right;\">\n",
       "      <th></th>\n",
       "      <th>length</th>\n",
       "      <th>count</th>\n",
       "    </tr>\n",
       "    <tr>\n",
       "      <th>crime_date</th>\n",
       "      <th></th>\n",
       "      <th></th>\n",
       "    </tr>\n",
       "  </thead>\n",
       "  <tbody>\n",
       "    <tr>\n",
       "      <th>1750</th>\n",
       "      <td>9943</td>\n",
       "      <td>113</td>\n",
       "    </tr>\n",
       "    <tr>\n",
       "      <th>1760</th>\n",
       "      <td>16287</td>\n",
       "      <td>106</td>\n",
       "    </tr>\n",
       "    <tr>\n",
       "      <th>1770</th>\n",
       "      <td>11901</td>\n",
       "      <td>103</td>\n",
       "    </tr>\n",
       "    <tr>\n",
       "      <th>1780</th>\n",
       "      <td>21968</td>\n",
       "      <td>88</td>\n",
       "    </tr>\n",
       "    <tr>\n",
       "      <th>1790</th>\n",
       "      <td>23014</td>\n",
       "      <td>76</td>\n",
       "    </tr>\n",
       "  </tbody>\n",
       "</table>\n",
       "</div>"
      ],
      "text/plain": [
       "            length  count\n",
       "crime_date               \n",
       "1750          9943    113\n",
       "1760         16287    106\n",
       "1770         11901    103\n",
       "1780         21968     88\n",
       "1790         23014     76"
      ]
     },
     "execution_count": 63,
     "metadata": {},
     "output_type": "execute_result"
    }
   ],
   "source": [
    "pd.options.display.float_format = '{:.0f}'.format\n",
    "#see if the length of trial records change through time\n",
    "decade_length=df_crime_text_gender.groupby((df_crime_text_gender.crime_date.dt.year//10)*10).agg(length=('length','mean'),count=('trial_id','count'))\n",
    "decade_length                                                                               "
   ]
  },
  {
   "cell_type": "code",
   "execution_count": 64,
   "metadata": {},
   "outputs": [
    {
     "data": {
      "text/plain": [
       "<AxesSubplot:title={'center':'Trial length change through years'}, xlabel='crime_date', ylabel='length of trial text (characters)'>"
      ]
     },
     "execution_count": 64,
     "metadata": {},
     "output_type": "execute_result"
    },
    {
     "data": {
      "image/png": "[encoded data removed]",
      "text/plain": [
       "<Figure size 576x432 with 1 Axes>"
      ]
     },
     "metadata": {},
     "output_type": "display_data"
    }
   ],
   "source": [
    "#visualize the change through time\n",
    "time_year_length=df_crime_text_gender.groupby(df_crime_text_gender.crime_date.dt.year).mean('length')\n",
    "\n",
    "fig = plt.figure(1, figsize=(8,6))\n",
    "ax = plt.subplot()\n",
    "ax.set_xlabel('Year')\n",
    "ax.set_ylabel('length of trial text (characters)')\n",
    "ax.set_title('Trial length change through years')\n",
    "\n",
    "time_year_length.plot(ax=ax)"
   ]
  },
  {
   "cell_type": "markdown",
   "metadata": {},
   "source": [
    "We can see that the trial records for male defendants are slightly longer than the male defendants but it is difficult to draw conclusions from that. We can also see the length of text in the trials of is getting longer in the timeframe we are looking at. This makes sense since later in the 1780s, when the City takes over the publication of Proceedings, the proceedings become more comprehensive."
   ]
  },
  {
   "cell_type": "markdown",
   "metadata": {},
   "source": [
    "### TF-IDF\n",
    "TF-IDF stands for term frequency-inverse document frequency. It is a technique to quantify words in documents. We compute each word with a score that can signify the importance of words in the document or corpus. It can provide more information then simple frequency analysis. TF-IDF analysis is used in this project to see if we can uncover any useful information in the trial records (Scott, 2019). \n",
    "\n",
    "TF-IDF is calculated by **Term Frequency (TF) * Inverse Document Frequency (IDF)** \n",
    "\n",
    "Term frequency (TF) measures the frequency of a word in a document. The calculation is simple. \n",
    "\n",
    "**TF=Counts of the word in the document/total number of words in the document**\n",
    "\n",
    "So it means the most common words like \"the\" or \"was\", will have higher values\n",
    "\n",
    "Document frequency (DF) measures the occurrence of the term in a set of documents. In other words, DF means numbers of documents that a term was present in. Inverse document frequency quantifies the informativeness of the term by dividing number of documents by DF and taking the log of the value. Put in the formula will be:\n",
    "\n",
    "**IDF=log(number of the documents/DF+1)**\n",
    "\n",
    "The reason that we need to add +1 at the denominator is because there is a chance that the term doesn't appear in any document, the DF will be 0. So for common practice, we add +1 to avoid dividing 0."
   ]
  },
  {
   "cell_type": "markdown",
   "metadata": {},
   "source": [
    "#### Calculate the TF-IDF of female's trial texts"
   ]
  },
  {
   "cell_type": "code",
   "execution_count": 65,
   "metadata": {},
   "outputs": [],
   "source": [
    "#create an empty string  \n",
    "female=''\n",
    "\n",
    "#iter through the dataframe \n",
    "for x in range(0,len(df_crime_text_gender)): \n",
    "    #check the defendant gender. If it is female, append the text to the string\n",
    "    if df_crime_text_gender['defendant_gender'][x] =='female':\n",
    "        female += df_crime_text_gender['texts'][x] \n",
    "\n",
    "female=[female] #turn it into a list to put TfidfVectorizer\n"
   ]
  },
  {
   "cell_type": "code",
   "execution_count": 66,
   "metadata": {},
   "outputs": [],
   "source": [
    "from sklearn.feature_extraction.text import TfidfVectorizer #import the library"
   ]
  },
  {
   "cell_type": "code",
   "execution_count": 67,
   "metadata": {},
   "outputs": [],
   "source": [
    "#We decide to use sklearn library. They compressed the operation above on calculating TF-IDF into few lines\n",
    "tfidf_vectorizer_female = TfidfVectorizer(use_idf=True)\n",
    "tfidf_vectorizer_vectors_female=tfidf_vectorizer_female.fit_transform(female)"
   ]
  },
  {
   "cell_type": "code",
   "execution_count": 68,
   "metadata": {},
   "outputs": [
    {
     "data": {
      "text/html": [
       "<div>\n",
       "<style scoped>\n",
       "    .dataframe tbody tr th:only-of-type {\n",
       "        vertical-align: middle;\n",
       "    }\n",
       "\n",
       "    .dataframe tbody tr th {\n",
       "        vertical-align: top;\n",
       "    }\n",
       "\n",
       "    .dataframe thead th {\n",
       "        text-align: right;\n",
       "    }\n",
       "</style>\n",
       "<table border=\"1\" class=\"dataframe\">\n",
       "  <thead>\n",
       "    <tr style=\"text-align: right;\">\n",
       "      <th></th>\n",
       "      <th>tfidf</th>\n",
       "    </tr>\n",
       "  </thead>\n",
       "  <tbody>\n",
       "    <tr>\n",
       "      <th>the</th>\n",
       "      <td>1</td>\n",
       "    </tr>\n",
       "    <tr>\n",
       "      <th>and</th>\n",
       "      <td>0</td>\n",
       "    </tr>\n",
       "    <tr>\n",
       "      <th>was</th>\n",
       "      <td>0</td>\n",
       "    </tr>\n",
       "    <tr>\n",
       "      <th>to</th>\n",
       "      <td>0</td>\n",
       "    </tr>\n",
       "    <tr>\n",
       "      <th>of</th>\n",
       "      <td>0</td>\n",
       "    </tr>\n",
       "  </tbody>\n",
       "</table>\n",
       "</div>"
      ],
      "text/plain": [
       "     tfidf\n",
       "the      1\n",
       "and      0\n",
       "was      0\n",
       "to       0\n",
       "of       0"
      ]
     },
     "execution_count": 68,
     "metadata": {},
     "output_type": "execute_result"
    }
   ],
   "source": [
    "# place tf-idf values in a pandas data frame \n",
    "df_female_tfidf = pd.DataFrame(tfidf_vectorizer_vectors_female.T.todense(), index=tfidf_vectorizer_female.get_feature_names(), columns=[\"tfidf\"]) \n",
    "df_female_tfidf.sort_values(by=[\"tfidf\"],ascending=False).head(5)"
   ]
  },
  {
   "cell_type": "markdown",
   "metadata": {},
   "source": [
    "#### Calculate the TF-IDF of male's trial texts"
   ]
  },
  {
   "cell_type": "code",
   "execution_count": 69,
   "metadata": {},
   "outputs": [],
   "source": [
    "#Same procedures used for analyzing femle's texts will be used here for male's texts\n",
    "male=''\n",
    "for x in range(0,len(df_crime_text_gender)): \n",
    "    if df_crime_text_gender['defendant_gender'][x] =='male':\n",
    "        male += df_crime_text_gender['texts'][x] \n",
    "male=[male]"
   ]
  },
  {
   "cell_type": "code",
   "execution_count": 70,
   "metadata": {},
   "outputs": [],
   "source": [
    "tfidf_vectorizer_male = TfidfVectorizer(use_idf=True)\n",
    "tfidf_vectorizer_vectors_male=tfidf_vectorizer_male.fit_transform(male)"
   ]
  },
  {
   "cell_type": "code",
   "execution_count": 71,
   "metadata": {},
   "outputs": [
    {
     "data": {
      "text/html": [
       "<div>\n",
       "<style scoped>\n",
       "    .dataframe tbody tr th:only-of-type {\n",
       "        vertical-align: middle;\n",
       "    }\n",
       "\n",
       "    .dataframe tbody tr th {\n",
       "        vertical-align: top;\n",
       "    }\n",
       "\n",
       "    .dataframe thead th {\n",
       "        text-align: right;\n",
       "    }\n",
       "</style>\n",
       "<table border=\"1\" class=\"dataframe\">\n",
       "  <thead>\n",
       "    <tr style=\"text-align: right;\">\n",
       "      <th></th>\n",
       "      <th>tfidf</th>\n",
       "    </tr>\n",
       "  </thead>\n",
       "  <tbody>\n",
       "    <tr>\n",
       "      <th>the</th>\n",
       "      <td>1</td>\n",
       "    </tr>\n",
       "    <tr>\n",
       "      <th>and</th>\n",
       "      <td>0</td>\n",
       "    </tr>\n",
       "    <tr>\n",
       "      <th>to</th>\n",
       "      <td>0</td>\n",
       "    </tr>\n",
       "    <tr>\n",
       "      <th>of</th>\n",
       "      <td>0</td>\n",
       "    </tr>\n",
       "    <tr>\n",
       "      <th>was</th>\n",
       "      <td>0</td>\n",
       "    </tr>\n",
       "  </tbody>\n",
       "</table>\n",
       "</div>"
      ],
      "text/plain": [
       "     tfidf\n",
       "the      1\n",
       "and      0\n",
       "to       0\n",
       "of       0\n",
       "was      0"
      ]
     },
     "execution_count": 71,
     "metadata": {},
     "output_type": "execute_result"
    }
   ],
   "source": [
    "df = pd.DataFrame(tfidf_vectorizer_vectors_male.T.todense(), index=tfidf_vectorizer_male.get_feature_names(), columns=[\"tfidf\"]) \n",
    "df.sort_values(by=[\"tfidf\"],ascending=False).head(5)"
   ]
  },
  {
   "cell_type": "markdown",
   "metadata": {},
   "source": [
    "If the tf-idf score of the term is higher, the more relevant of term is to the whole document. The most interesting part came out from the analysis is that the word \"child\" is in the top 5 for the tf-idf scores in the female defendants' trial records. This makes sense since women tend to be charged with infanticide (as a subcategory of killing). Infanticide means the killing of a new born child. The crimes usually involved unmarried women. "
   ]
  },
  {
   "cell_type": "markdown",
   "metadata": {},
   "source": [
    "### Sentiment analysis\n",
    "Sentiment analysis is a part of NLP that tries to identify opinions within texts, ‘computationally’ determining whether the text is positive, negative or neutral. This project used VADER (Valence Aware Dictionary and sEntiment Reasoner) for sentiemnt analysis. It is a lexicon and rule-based sentiment analysis tool. The advantage of this VADER does not require training data. VADER is usually used in social-media posts analysis. "
   ]
  },
  {
   "cell_type": "code",
   "execution_count": 72,
   "metadata": {},
   "outputs": [
    {
     "name": "stderr",
     "output_type": "stream",
     "text": [
      "[nltk_data] Downloading package vader_lexicon to /Users/Yi-\n",
      "[nltk_data]     Ting/nltk_data...\n",
      "[nltk_data]   Package vader_lexicon is already up-to-date!\n"
     ]
    }
   ],
   "source": [
    "nltk.download('vader_lexicon')\n",
    "from nltk.sentiment.vader import SentimentIntensityAnalyzer \n",
    "sid = SentimentIntensityAnalyzer() #load the analyzer"
   ]
  },
  {
   "cell_type": "code",
   "execution_count": 73,
   "metadata": {},
   "outputs": [],
   "source": [
    "#apply the analyzer to the each rows in the \"texts\" column\n",
    "sentiment = df_crime_text_gender['texts'].apply(lambda x : sid.polarity_scores(x))"
   ]
  },
  {
   "cell_type": "code",
   "execution_count": 74,
   "metadata": {},
   "outputs": [
    {
     "data": {
      "text/html": [
       "<div>\n",
       "<style scoped>\n",
       "    .dataframe tbody tr th:only-of-type {\n",
       "        vertical-align: middle;\n",
       "    }\n",
       "\n",
       "    .dataframe tbody tr th {\n",
       "        vertical-align: top;\n",
       "    }\n",
       "\n",
       "    .dataframe thead th {\n",
       "        text-align: right;\n",
       "    }\n",
       "</style>\n",
       "<table border=\"1\" class=\"dataframe\">\n",
       "  <thead>\n",
       "    <tr style=\"text-align: right;\">\n",
       "      <th></th>\n",
       "      <th>trial_id</th>\n",
       "      <th>texts</th>\n",
       "      <th>defendant_gender</th>\n",
       "      <th>crime_date</th>\n",
       "      <th>verdict_category</th>\n",
       "      <th>nltk_texts</th>\n",
       "      <th>length</th>\n",
       "      <th>neg</th>\n",
       "      <th>neu</th>\n",
       "      <th>pos</th>\n",
       "      <th>compound</th>\n",
       "    </tr>\n",
       "  </thead>\n",
       "  <tbody>\n",
       "    <tr>\n",
       "      <th>0</th>\n",
       "      <td>t17790915-57</td>\n",
       "      <td>440 GEORGE LISTER was indicted for the Wilful...</td>\n",
       "      <td>male</td>\n",
       "      <td>1779-09-15</td>\n",
       "      <td>notGuilty</td>\n",
       "      <td>[440, george, lister, indicted, wilful, murder...</td>\n",
       "      <td>11953</td>\n",
       "      <td>0.147</td>\n",
       "      <td>0.825</td>\n",
       "      <td>0.029</td>\n",
       "      <td>-1.000</td>\n",
       "    </tr>\n",
       "    <tr>\n",
       "      <th>1</th>\n",
       "      <td>t17810222-9</td>\n",
       "      <td>131 PATRICK HOY was indicted for the wilful m...</td>\n",
       "      <td>male</td>\n",
       "      <td>1781-02-22</td>\n",
       "      <td>notGuilty</td>\n",
       "      <td>[131, patrick, hoy, indicted, wilful, murder, ...</td>\n",
       "      <td>13606</td>\n",
       "      <td>0.101</td>\n",
       "      <td>0.838</td>\n",
       "      <td>0.060</td>\n",
       "      <td>-0.999</td>\n",
       "    </tr>\n",
       "    <tr>\n",
       "      <th>2</th>\n",
       "      <td>t17611021-34</td>\n",
       "      <td>318 M Richard Parrott was indicted for the wi...</td>\n",
       "      <td>male</td>\n",
       "      <td>1761-10-21</td>\n",
       "      <td>guilty</td>\n",
       "      <td>[318, richard, parrott, indicted, wilful, murd...</td>\n",
       "      <td>21161</td>\n",
       "      <td>0.147</td>\n",
       "      <td>0.808</td>\n",
       "      <td>0.045</td>\n",
       "      <td>-1.000</td>\n",
       "    </tr>\n",
       "    <tr>\n",
       "      <th>3</th>\n",
       "      <td>t17801206-54</td>\n",
       "      <td>64 THOMAS DILLEY was indicted for the wilful ...</td>\n",
       "      <td>male</td>\n",
       "      <td>1780-12-06</td>\n",
       "      <td>notGuilty</td>\n",
       "      <td>[64, thomas, dilley, indicted, wilful, murther...</td>\n",
       "      <td>1526</td>\n",
       "      <td>0.119</td>\n",
       "      <td>0.843</td>\n",
       "      <td>0.039</td>\n",
       "      <td>-0.977</td>\n",
       "    </tr>\n",
       "    <tr>\n",
       "      <th>4</th>\n",
       "      <td>t17540717-45</td>\n",
       "      <td>393 L Bernard Smith was indicted for the wilf...</td>\n",
       "      <td>male</td>\n",
       "      <td>1754-07-17</td>\n",
       "      <td>guilty</td>\n",
       "      <td>[393, l, bernard, smith, indicted, wilful, mur...</td>\n",
       "      <td>7438</td>\n",
       "      <td>0.185</td>\n",
       "      <td>0.766</td>\n",
       "      <td>0.049</td>\n",
       "      <td>-1.000</td>\n",
       "    </tr>\n",
       "    <tr>\n",
       "      <th>...</th>\n",
       "      <td>...</td>\n",
       "      <td>...</td>\n",
       "      <td>...</td>\n",
       "      <td>...</td>\n",
       "      <td>...</td>\n",
       "      <td>...</td>\n",
       "      <td>...</td>\n",
       "      <td>...</td>\n",
       "      <td>...</td>\n",
       "      <td>...</td>\n",
       "      <td>...</td>\n",
       "    </tr>\n",
       "    <tr>\n",
       "      <th>481</th>\n",
       "      <td>t17940917-47</td>\n",
       "      <td>506 ROBERT ANDREWS was indicted for that he o...</td>\n",
       "      <td>male</td>\n",
       "      <td>1794-09-17</td>\n",
       "      <td>guilty</td>\n",
       "      <td>[506, robert, andrew, indicted, 17th, august, ...</td>\n",
       "      <td>14228</td>\n",
       "      <td>0.115</td>\n",
       "      <td>0.824</td>\n",
       "      <td>0.061</td>\n",
       "      <td>-1.000</td>\n",
       "    </tr>\n",
       "    <tr>\n",
       "      <th>482</th>\n",
       "      <td>t17871024-19</td>\n",
       "      <td>830 WILLIAM WHITEWAY was indicted for that he...</td>\n",
       "      <td>male</td>\n",
       "      <td>1787-10-24</td>\n",
       "      <td>notGuilty</td>\n",
       "      <td>[830, william, whiteway, indicted, ill, design...</td>\n",
       "      <td>22670</td>\n",
       "      <td>0.097</td>\n",
       "      <td>0.841</td>\n",
       "      <td>0.062</td>\n",
       "      <td>-1.000</td>\n",
       "    </tr>\n",
       "    <tr>\n",
       "      <th>483</th>\n",
       "      <td>t17760417-58</td>\n",
       "      <td>366 MARY OWEN late wife of Henry Owen was ind...</td>\n",
       "      <td>female</td>\n",
       "      <td>1776-04-17</td>\n",
       "      <td>notGuilty</td>\n",
       "      <td>[366, mary, owen, late, wife, henry, owen, ind...</td>\n",
       "      <td>8625</td>\n",
       "      <td>0.157</td>\n",
       "      <td>0.779</td>\n",
       "      <td>0.063</td>\n",
       "      <td>-1.000</td>\n",
       "    </tr>\n",
       "    <tr>\n",
       "      <th>484</th>\n",
       "      <td>t17501205-60</td>\n",
       "      <td>75 M Henry Stroud was indicted for the murder...</td>\n",
       "      <td>male</td>\n",
       "      <td>1750-12-05</td>\n",
       "      <td>guilty</td>\n",
       "      <td>[75, henry, stroud, indicted, murder, richard,...</td>\n",
       "      <td>6403</td>\n",
       "      <td>0.131</td>\n",
       "      <td>0.831</td>\n",
       "      <td>0.037</td>\n",
       "      <td>-0.999</td>\n",
       "    </tr>\n",
       "    <tr>\n",
       "      <th>485</th>\n",
       "      <td>t17990911-25</td>\n",
       "      <td>407 ALEXANDER TISDALL was indicted for the wi...</td>\n",
       "      <td>male</td>\n",
       "      <td>1799-09-11</td>\n",
       "      <td>guilty</td>\n",
       "      <td>[407, alexander, tisdall, indicted, wilful, mu...</td>\n",
       "      <td>16575</td>\n",
       "      <td>0.144</td>\n",
       "      <td>0.816</td>\n",
       "      <td>0.040</td>\n",
       "      <td>-1.000</td>\n",
       "    </tr>\n",
       "  </tbody>\n",
       "</table>\n",
       "<p>486 rows × 11 columns</p>\n",
       "</div>"
      ],
      "text/plain": [
       "         trial_id                                              texts  \\\n",
       "0    t17790915-57   440 GEORGE LISTER was indicted for the Wilful...   \n",
       "1     t17810222-9   131 PATRICK HOY was indicted for the wilful m...   \n",
       "2    t17611021-34   318 M Richard Parrott was indicted for the wi...   \n",
       "3    t17801206-54   64 THOMAS DILLEY was indicted for the wilful ...   \n",
       "4    t17540717-45   393 L Bernard Smith was indicted for the wilf...   \n",
       "..            ...                                                ...   \n",
       "481  t17940917-47   506 ROBERT ANDREWS was indicted for that he o...   \n",
       "482  t17871024-19   830 WILLIAM WHITEWAY was indicted for that he...   \n",
       "483  t17760417-58   366 MARY OWEN late wife of Henry Owen was ind...   \n",
       "484  t17501205-60   75 M Henry Stroud was indicted for the murder...   \n",
       "485  t17990911-25   407 ALEXANDER TISDALL was indicted for the wi...   \n",
       "\n",
       "    defendant_gender crime_date verdict_category  \\\n",
       "0               male 1779-09-15        notGuilty   \n",
       "1               male 1781-02-22        notGuilty   \n",
       "2               male 1761-10-21           guilty   \n",
       "3               male 1780-12-06        notGuilty   \n",
       "4               male 1754-07-17           guilty   \n",
       "..               ...        ...              ...   \n",
       "481             male 1794-09-17           guilty   \n",
       "482             male 1787-10-24        notGuilty   \n",
       "483           female 1776-04-17        notGuilty   \n",
       "484             male 1750-12-05           guilty   \n",
       "485             male 1799-09-11           guilty   \n",
       "\n",
       "                                            nltk_texts  length   neg   neu  \\\n",
       "0    [440, george, lister, indicted, wilful, murder...   11953 0.147 0.825   \n",
       "1    [131, patrick, hoy, indicted, wilful, murder, ...   13606 0.101 0.838   \n",
       "2    [318, richard, parrott, indicted, wilful, murd...   21161 0.147 0.808   \n",
       "3    [64, thomas, dilley, indicted, wilful, murther...    1526 0.119 0.843   \n",
       "4    [393, l, bernard, smith, indicted, wilful, mur...    7438 0.185 0.766   \n",
       "..                                                 ...     ...   ...   ...   \n",
       "481  [506, robert, andrew, indicted, 17th, august, ...   14228 0.115 0.824   \n",
       "482  [830, william, whiteway, indicted, ill, design...   22670 0.097 0.841   \n",
       "483  [366, mary, owen, late, wife, henry, owen, ind...    8625 0.157 0.779   \n",
       "484  [75, henry, stroud, indicted, murder, richard,...    6403 0.131 0.831   \n",
       "485  [407, alexander, tisdall, indicted, wilful, mu...   16575 0.144 0.816   \n",
       "\n",
       "      pos  compound  \n",
       "0   0.029    -1.000  \n",
       "1   0.060    -0.999  \n",
       "2   0.045    -1.000  \n",
       "3   0.039    -0.977  \n",
       "4   0.049    -1.000  \n",
       "..    ...       ...  \n",
       "481 0.061    -1.000  \n",
       "482 0.062    -1.000  \n",
       "483 0.063    -1.000  \n",
       "484 0.037    -0.999  \n",
       "485 0.040    -1.000  \n",
       "\n",
       "[486 rows x 11 columns]"
      ]
     },
     "execution_count": 74,
     "metadata": {},
     "output_type": "execute_result"
    }
   ],
   "source": [
    "pd.options.display.float_format = '{:.3f}'.format\n",
    "#concat the series back to the dataframe\n",
    "df_crime_text_gender_sentiment=pd.concat([df_crime_text_gender,sentiment.apply(pd.Series)],1)\n",
    "df_crime_text_gender_sentiment"
   ]
  },
  {
   "cell_type": "markdown",
   "metadata": {},
   "source": [
    "We can see there are four columns produced by the sentiment analysis. Individually, they are respresent four different kinds of sroes. Pos (positive), neu (neutral), and neg (negative) scores are the ratio of proportions of text in each category. The compound score is to sum up the valence scores of each word in the lexicon and then normalize to be between -1 (most extreme negative) and +1 (most extreme positive). According to the documentation, as a general rule for researchers:\n",
    "\n",
    "**positive sentiment => compound score >=0.5**\n",
    "\n",
    "**neutral sentiment => -0.5 < compound score <0.5**\n",
    "\n",
    "**negative sentiment => compound score <= -0.05**\n",
    "\n",
    "(Link to the documentation:https://github.com/cjhutto/vaderSentiment#about-the-scoring)"
   ]
  },
  {
   "cell_type": "code",
   "execution_count": 75,
   "metadata": {},
   "outputs": [
    {
     "data": {
      "text/plain": [
       "<AxesSubplot:title={'center':'Compound score distribution'}, xlabel='Compound Score', ylabel='Frequency'>"
      ]
     },
     "execution_count": 75,
     "metadata": {},
     "output_type": "execute_result"
    },
    {
     "data": {
      "image/png": "[encoded data removed]",
      "text/plain": [
       "<Figure size 576x432 with 1 Axes>"
      ]
     },
     "metadata": {},
     "output_type": "display_data"
    }
   ],
   "source": [
    "#visualize the distribution of compound scores\n",
    "fig = plt.figure(1, figsize=(8,6))\n",
    "ax = plt.subplot()\n",
    "ax.set_xlabel('Compound Score')\n",
    "ax.set_title('Compound score distribution')\n",
    "\n",
    "df_crime_text_gender_sentiment['compound'].plot(kind='hist')"
   ]
  },
  {
   "cell_type": "code",
   "execution_count": 76,
   "metadata": {},
   "outputs": [
    {
     "data": {
      "text/html": [
       "<div>\n",
       "<style scoped>\n",
       "    .dataframe tbody tr th:only-of-type {\n",
       "        vertical-align: middle;\n",
       "    }\n",
       "\n",
       "    .dataframe tbody tr th {\n",
       "        vertical-align: top;\n",
       "    }\n",
       "\n",
       "    .dataframe thead th {\n",
       "        text-align: right;\n",
       "    }\n",
       "</style>\n",
       "<table border=\"1\" class=\"dataframe\">\n",
       "  <thead>\n",
       "    <tr style=\"text-align: right;\">\n",
       "      <th></th>\n",
       "      <th>length</th>\n",
       "      <th>neg</th>\n",
       "      <th>neu</th>\n",
       "      <th>pos</th>\n",
       "      <th>compound</th>\n",
       "    </tr>\n",
       "    <tr>\n",
       "      <th>defendant_gender</th>\n",
       "      <th></th>\n",
       "      <th></th>\n",
       "      <th></th>\n",
       "      <th></th>\n",
       "      <th></th>\n",
       "    </tr>\n",
       "  </thead>\n",
       "  <tbody>\n",
       "    <tr>\n",
       "      <th>female</th>\n",
       "      <td>14168.178</td>\n",
       "      <td>0.121</td>\n",
       "      <td>0.823</td>\n",
       "      <td>0.057</td>\n",
       "      <td>-0.903</td>\n",
       "    </tr>\n",
       "    <tr>\n",
       "      <th>male</th>\n",
       "      <td>16433.945</td>\n",
       "      <td>0.134</td>\n",
       "      <td>0.806</td>\n",
       "      <td>0.060</td>\n",
       "      <td>-0.898</td>\n",
       "    </tr>\n",
       "  </tbody>\n",
       "</table>\n",
       "</div>"
      ],
      "text/plain": [
       "                    length   neg   neu   pos  compound\n",
       "defendant_gender                                      \n",
       "female           14168.178 0.121 0.823 0.057    -0.903\n",
       "male             16433.945 0.134 0.806 0.060    -0.898"
      ]
     },
     "execution_count": 76,
     "metadata": {},
     "output_type": "execute_result"
    }
   ],
   "source": [
    "#See the average of sentiment scores by each gender\n",
    "df_crime_text_gender_sentiment.groupby('defendant_gender').mean('compound')"
   ]
  },
  {
   "cell_type": "code",
   "execution_count": 77,
   "metadata": {},
   "outputs": [
    {
     "data": {
      "text/html": [
       "<div>\n",
       "<style scoped>\n",
       "    .dataframe tbody tr th:only-of-type {\n",
       "        vertical-align: middle;\n",
       "    }\n",
       "\n",
       "    .dataframe tbody tr th {\n",
       "        vertical-align: top;\n",
       "    }\n",
       "\n",
       "    .dataframe thead th {\n",
       "        text-align: right;\n",
       "    }\n",
       "</style>\n",
       "<table border=\"1\" class=\"dataframe\">\n",
       "  <thead>\n",
       "    <tr style=\"text-align: right;\">\n",
       "      <th></th>\n",
       "      <th>length</th>\n",
       "      <th>neg</th>\n",
       "      <th>neu</th>\n",
       "      <th>pos</th>\n",
       "      <th>compound</th>\n",
       "    </tr>\n",
       "    <tr>\n",
       "      <th>verdict_category</th>\n",
       "      <th></th>\n",
       "      <th></th>\n",
       "      <th></th>\n",
       "      <th></th>\n",
       "      <th></th>\n",
       "    </tr>\n",
       "  </thead>\n",
       "  <tbody>\n",
       "    <tr>\n",
       "      <th>guilty</th>\n",
       "      <td>16839.502</td>\n",
       "      <td>0.134</td>\n",
       "      <td>0.807</td>\n",
       "      <td>0.058</td>\n",
       "      <td>-0.931</td>\n",
       "    </tr>\n",
       "    <tr>\n",
       "      <th>miscVerdict</th>\n",
       "      <td>NaN</td>\n",
       "      <td>NaN</td>\n",
       "      <td>NaN</td>\n",
       "      <td>NaN</td>\n",
       "      <td>NaN</td>\n",
       "    </tr>\n",
       "    <tr>\n",
       "      <th>notGuilty</th>\n",
       "      <td>15167.977</td>\n",
       "      <td>0.129</td>\n",
       "      <td>0.811</td>\n",
       "      <td>0.060</td>\n",
       "      <td>-0.869</td>\n",
       "    </tr>\n",
       "    <tr>\n",
       "      <th>specialVerdict</th>\n",
       "      <td>18659.000</td>\n",
       "      <td>0.099</td>\n",
       "      <td>0.833</td>\n",
       "      <td>0.068</td>\n",
       "      <td>-0.995</td>\n",
       "    </tr>\n",
       "  </tbody>\n",
       "</table>\n",
       "</div>"
      ],
      "text/plain": [
       "                    length   neg   neu   pos  compound\n",
       "verdict_category                                      \n",
       "guilty           16839.502 0.134 0.807 0.058    -0.931\n",
       "miscVerdict            NaN   NaN   NaN   NaN       NaN\n",
       "notGuilty        15167.977 0.129 0.811 0.060    -0.869\n",
       "specialVerdict   18659.000 0.099 0.833 0.068    -0.995"
      ]
     },
     "execution_count": 77,
     "metadata": {},
     "output_type": "execute_result"
    }
   ],
   "source": [
    "#See the average of sentiment scores by each verdict category\n",
    "df_crime_text_gender_sentiment.groupby('verdict_category').mean('compound')"
   ]
  },
  {
   "cell_type": "markdown",
   "metadata": {},
   "source": [
    "We can see from the plot above, the majority of trial records are identified with negative sentiment. It makes sense given it was in a criminal context (especially we are looking at killing trials). We would like to see if there is any difference between male and female defendants' records and different verdict categories (i.e. not guilty category might more toward positive sentiment). However, as the information displayed above, there are no noticable difference. They all get negative sentiment scores. "
   ]
  },
  {
   "cell_type": "markdown",
   "metadata": {},
   "source": [
    "### Discussion and Summary"
   ]
  },
  {
   "cell_type": "markdown",
   "metadata": {},
   "source": [
    "Analysing the data from Old Bailey digital archive, the project is aimed to investigate the treatments of male and female defendants in the late 18th century English justice system. A lot of interesting information was uncovered.\n",
    "\n",
    "In the 50 year period we are looking at, from the dataset we successfully address the research questions and found out:\n",
    "\n",
    "(1) Female and male defendants were treated differently. Male defendants were more likely to be sentenced as guilty and (under theft charge) more likely to receive death sentence than women.\n",
    "\n",
    "(2) Female defendants mainly committed theft crimes while male defendants committed a wider range of crimes\n",
    "\n",
    "(3) The average ages of defendants for both gender increased in the 50 years but this could be caused by the skewed sample distributions\n",
    "\n",
    "(4) TF-IDF analysis identified the importance of \"child\" in female defendant's trials, which can be supported by the fact that women were often charged with Infanticide.\n",
    "\n",
    "Other than successfully answering research questions, we also characterize a few features from the dataset, which can inform us on the general trends in the time period and the trial record keeping practices:\n",
    "\n",
    "(1) Majority of the trials are under the crime category of theft.\n",
    "\n",
    "(2) There is a sharp spike in the number of trials in 1780s. The crime of \"breaking peace\" increased most drastically during that time.\n",
    "\n",
    "(3) The length of the trials written text were getting longer.\n",
    "\n",
    "(4) From 1780s and 1790s, the record keeping became more comprehensive since we see there are more records at that time recorded\n",
    "    \n",
    "Combing the observations from the dataset and historical research/documents, differences of the treatment of male and female defendants in the court largely resulted from how the society perceived them and the justice systems looked at them through the glasses of prescribed gender roles, such as \"Women are weak and vulnerable\". Women at that point were also seen as part of men's property as well (Arnot and Usborne, 1999; Palk, 2006; Shoemaker, 1998). **In the late 18th century, though women might have suffered inequalities in factories or politics, the prejudices about them actually played in their favour when they were in the courtroom.** "
   ]
  },
  {
   "cell_type": "markdown",
   "metadata": {},
   "source": [
    "### Conclusion and Future Directions"
   ]
  },
  {
   "cell_type": "markdown",
   "metadata": {},
   "source": [
    "From this 50 years dataset, we have identified the gender differene in the 18th century courtroom (as defendants). There are still more information can be drawn from this dataset and the whole Proceedings of Old Bailey digital archive. However we need to understand more in details on the processes of creating trial reports before 1800. It was pointed out that the 19th century trial records reflect more accurate on the courtroom practice (Hitchcock et al., 2016).\n",
    "\n",
    "There are few aspects that we can exapnd for the futures on this dataset:\n",
    "\n",
    "(1) Expanding the time period. If the 17th century record keeping were more sensational (for attracting readers), the setiment analysis might show the difference comparing with what we get from current dataset. \n",
    "\n",
    "(2) Including the parameters of victims. We have seen how male and female defendants representing in the court. It will be interesting to see the  similar representation of vitims\n",
    "\n",
    "(3) Bayesian hypothesis tests. Unlike frequentist approach (simply reject or accept a hypothesis), we can use bayesian approach to calculate the range of probilities of the likelyhood that male/female defendants would be found guilty.  \n"
   ]
  },
  {
   "cell_type": "markdown",
   "metadata": {},
   "source": [
    "### Reference"
   ]
  },
  {
   "cell_type": "markdown",
   "metadata": {},
   "source": [
    "Arnot, Meg, & Usborne, Cornelie. (1999). Gender and Crime in Modern Europe (Women's and gender history). London: Taylor & Francis Group.\n",
    "\n",
    "Beattie, J. M. (1975). The Criminality of Women in Eighteenth-Century England. Journal of Social History, 8(4), 80-116.\n",
    "\n",
    "Deane, P. (1979). The first industrial revolution. S.l.]: Cambridge University Press.\n",
    "\n",
    "Devereaux, S. (1996). The City and the Sessions Paper: “Public Justice” in London, 1770–1800. The Journal of British Studies, 35(4), 466-503.\n",
    "\n",
    "Emsley, C. (2013). Crime and society in England 1750-1900. (Themes in British social history). S.l.]: Longman.\n",
    "\n",
    "Heidenreich, H. (2018, December 21) Stemming? Lemmatization? What?.Medium. https://towardsdatascience.com/stemming-lemmatization-what-ba782b7c0bd8\n",
    "\n",
    "Hitchcock, Tim, & Turkel, William J. (2016). The Old Bailey Proceedings, 1674–1913: Text Mining for Evidence of Court Behavior. Law and History Review, 34(4), 929-955.\n",
    "\n",
    "Hudson, P. (2014). The industrial revolution (Reading history). London ; New York : New York, NY: E. Arnold ; Distributed in the USA by Routledge, Chapman, and Hall.\n",
    "\n",
    "Kermode, Jennifer, & Walker, Garthine. (2004). Women Crime and the Courts in Early Modern England. London: Routledge.\n",
    "\n",
    "King, P. (2006). Crime and law in England, 1750-1840. (Past and present publications). Cambridge: CUP.\n",
    "\n",
    "Old Bailey (2018) https://www.oldbaileyonline.org/static/Gender.jsp#genderroles\n",
    "\n",
    "Palk, D. (2006). Gender, Crime and Judicial Discretion 1780–1830. London: Royal Historical Society\n",
    "\n",
    "Scott, W. (2019) TF-IDF from scratch in python on real world dataset. Medium. https://towardsdatascience.com/tf-idf-for-document-ranking-from-scratch-in-python-on-real-world-dataset-796d339a4089\n",
    "\n",
    "Shoemaker, R. (2008). Gender in English society, 1650-1850 : The emergence of separate spheres? (Themes in British social history).\n",
    "\n",
    "Walker, G. (2003). Crime, gender and social order in early modern England (Cambridge studies in early modern British history). Cambridge: Cambridge University Press."
   ]
  },
  {
   "cell_type": "code",
   "execution_count": null,
   "metadata": {},
   "outputs": [],
   "source": []
  }
 ],
 "metadata": {
  "kernelspec": {
   "display_name": "Python 3",
   "language": "python",
   "name": "python3"
  },
  "language_info": {
   "codemirror_mode": {
    "name": "ipython",
    "version": 3
   },
   "file_extension": ".py",
   "mimetype": "text/x-python",
   "name": "python",
   "nbconvert_exporter": "python",
   "pygments_lexer": "ipython3",
   "version": "3.7.4"
  }
 },
 "nbformat": 4,
 "nbformat_minor": 2
}
